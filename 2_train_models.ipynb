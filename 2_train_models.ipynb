{
 "cells": [
  {
   "cell_type": "code",
   "execution_count": 1,
   "metadata": {},
   "outputs": [],
   "source": [
    "import numpy as np\n",
    "import pandas as pd\n",
    "import scipy\n",
    "import matplotlib.pyplot as plt\n",
    "import seaborn as sns\n",
    "import re\n",
    "from wordcloud import WordCloud, STOPWORDS\n",
    "import nltk\n",
    "from nltk.corpus import stopwords\n",
    "from nltk.stem import SnowballStemmer, PorterStemmer\n",
    "import math\n",
    "from collections import Counter\n",
    "\n",
    "\n",
    "from sklearn.feature_extraction.text import TfidfVectorizer, CountVectorizer\n",
    "from sklearn.model_selection import train_test_split\n",
    "from sklearn.metrics import roc_auc_score, roc_curve, auc, mean_squared_error\n",
    "from sklearn.decomposition import TruncatedSVD, PCA\n",
    "from sklearn.linear_model import LinearRegression, SGDRegressor\n",
    "from sklearn.svm import SVR\n",
    "from sklearn.tree import DecisionTreeRegressor\n",
    "from sklearn.ensemble import RandomForestRegressor, AdaBoostRegressor\n",
    "\n",
    "\n",
    "from xgboost import XGBRegressor\n",
    "# import gensim\n",
    "import string\n",
    "import tensorflow as tf\n",
    "import keras\n",
    "\n",
    "from tensorflow import keras\n",
    "\n",
    "\n",
    "from tensorflow.python.keras.callbacks import ModelCheckpoint\n",
    "from tensorflow.python.keras.models import Sequential\n",
    "from tensorflow.python.keras.layers.core import Dense, InputSpec\n",
    "from tensorflow.python.keras.layers.recurrent import LSTM\n",
    "# from tensorflow.python.keras.layers import CuDNNLSTM\n",
    "from tensorflow.python.keras.layers import Dropout\n",
    "from tensorflow.python.keras.layers.embeddings import Embedding\n",
    "import warnings\n",
    "from keras import backend as K\n",
    "warnings.filterwarnings(\"ignore\")\n",
    "# K.tensorflow_backend._get_available_gpus()\n",
    "\n",
    "from keras import __version__\n",
    "tf.keras.__version__ = __version__\n",
    "# from rl.agents import DQNAgent\n",
    "# from rl.policy import BoltzmannQPolicy\n",
    "# from rl.memory import SequentialMemory"
   ]
  },
  {
   "cell_type": "markdown",
   "metadata": {},
   "source": [
    "<h3>We will test two models in this Notebook</h3>\n",
    "\n",
    "1) [LSTM](#LSTM)\n",
    "2) [GRU](#GRU)"
   ]
  },
  {
   "cell_type": "markdown",
   "metadata": {},
   "source": [
    "## Load preprocessed files"
   ]
  },
  {
   "cell_type": "code",
   "execution_count": 2,
   "metadata": {},
   "outputs": [],
   "source": [
    "# To load the csv files:\n",
    "# Uncomment the block.\n",
    "X_train = pd.read_pickle('X_train.pkl')\n",
    "X_cv = pd.read_pickle('X_cv.pkl')\n",
    "X_test = pd.read_pickle('X_test.pkl')\n",
    "y_train = pd.read_pickle('y_train.pkl')\n",
    "y_cv = pd.read_pickle('y_cv.pkl')"
   ]
  },
  {
   "cell_type": "markdown",
   "metadata": {},
   "source": [
    "### Text Featurization Class"
   ]
  },
  {
   "cell_type": "code",
   "execution_count": 4,
   "metadata": {},
   "outputs": [],
   "source": [
    "import numpy as np\n",
    "import pandas as pd\n",
    "from keras_preprocessing.sequence import pad_sequences\n",
    "\n",
    "class TextFeaturization:\n",
    "    \n",
    "    def __init__(self, pad_length=30): # pad_length was originally 350\n",
    "        self.word_mapping = None\n",
    "        self.total_words = None\n",
    "        self.pad_length = pad_length\n",
    "        \n",
    "    def build_vocabulary(self, sentences):\n",
    "        vocab = set()\n",
    "        for x in sentences:\n",
    "            for word in x.split():\n",
    "                vocab.add(word)\n",
    "        vocab_dict = dict.fromkeys(vocab, 0)\n",
    "        for x in sentences:\n",
    "            for word in x.split():\n",
    "                vocab_dict[word] += 1\n",
    "        return vocab_dict\n",
    "    \n",
    "    def get_mapping(self, vocab_dict):\n",
    "        kv = np.array(list(vocab_dict.items()))\n",
    "        df = pd.DataFrame(kv, columns=[\"Word\", \"Count\"])\n",
    "        df['Count'] = df['Count'].astype('int')\n",
    "        df.sort_values(by=['Count'], ascending=False, inplace=True)\n",
    "        df['mapping'] = range(1, len(df) + 1)\n",
    "        df.drop(columns=['Count'], inplace=True)\n",
    "        return dict(zip(df['Word'], df['mapping']))\n",
    "    \n",
    "    def fit(self, sentences):\n",
    "        v = self.build_vocabulary(sentences)\n",
    "        self.word_mapping = self.get_mapping(v)\n",
    "        self.total_words = len(self.word_mapping)\n",
    "        \n",
    "    def transform(self, sentences):\n",
    "        if self.word_mapping is None:\n",
    "            raise ValueError(\"Fit method must be called before transform.\")\n",
    "        \n",
    "        whole = []\n",
    "        for x in sentences:\n",
    "            part = [self.word_mapping[word] for word in x.split() if word in self.word_mapping]\n",
    "            whole.append(part)\n",
    "        \n",
    "        padded_sequences = pad_sequences(whole, maxlen=self.pad_length)\n",
    "        return padded_sequences\n",
    "\n"
   ]
  },
  {
   "cell_type": "markdown",
   "metadata": {},
   "source": [
    "### Fit the model with the preprocessed text "
   ]
  },
  {
   "cell_type": "code",
   "execution_count": 5,
   "metadata": {},
   "outputs": [],
   "source": [
    "text_feat = TextFeaturization()\n",
    "text_feat.fit(X_train['preprocessed_text'])"
   ]
  },
  {
   "cell_type": "markdown",
   "metadata": {},
   "source": [
    "### Transform"
   ]
  },
  {
   "cell_type": "code",
   "execution_count": 6,
   "metadata": {},
   "outputs": [],
   "source": [
    "lstm_train = text_feat.transform(X_train['preprocessed_text'])\n",
    "lstm_test = text_feat.transform(X_test['preprocessed_text'])\n",
    "lstm_cv = text_feat.transform(X_cv['preprocessed_text'])"
   ]
  },
  {
   "cell_type": "code",
   "execution_count": 7,
   "metadata": {},
   "outputs": [
    {
     "name": "stdout",
     "output_type": "stream",
     "text": [
      "(600000, 30)\n",
      "(200000, 30)\n",
      "(80000, 30)\n"
     ]
    }
   ],
   "source": [
    "print(lstm_train.shape)\n",
    "print(lstm_cv.shape)\n",
    "print(lstm_test.shape)"
   ]
  },
  {
   "cell_type": "code",
   "execution_count": 8,
   "metadata": {},
   "outputs": [],
   "source": [
    "np.save('lstm_train.npy', lstm_train)\n",
    "np.save('lstm_cv.npy', lstm_cv)\n",
    "np.save('lstm_test.npy', lstm_test)"
   ]
  },
  {
   "cell_type": "markdown",
   "metadata": {},
   "source": [
    "## LSTM Model"
   ]
  },
  {
   "cell_type": "markdown",
   "metadata": {},
   "source": [
    "### Create the LSTM model"
   ]
  },
  {
   "cell_type": "code",
   "execution_count": 9,
   "metadata": {},
   "outputs": [
    {
     "name": "stdout",
     "output_type": "stream",
     "text": [
      "130028\n",
      "Model: \"sequential\"\n",
      "_________________________________________________________________\n",
      "Layer (type)                 Output Shape              Param #   \n",
      "=================================================================\n",
      "embedding (Embedding)        (None, 30, 30)            3900870   \n",
      "_________________________________________________________________\n",
      "lstm (LSTM)                  (None, 30, 64)            24320     \n",
      "_________________________________________________________________\n",
      "lstm_1 (LSTM)                (None, 64)                33024     \n",
      "_________________________________________________________________\n",
      "dense (Dense)                (None, 1)                 65        \n",
      "=================================================================\n",
      "Total params: 3,958,279\n",
      "Trainable params: 3,958,279\n",
      "Non-trainable params: 0\n",
      "_________________________________________________________________\n",
      "None\n"
     ]
    }
   ],
   "source": [
    "from tensorflow.python.keras.layers.recurrent import LSTM\n",
    "\n",
    "# Create the model\n",
    "# embedding_vecor_length = 100\n",
    "embedding_vecor_length = 30\n",
    "total_words = text_feat.total_words\n",
    "print(total_words)\n",
    "\n",
    "model_LSTM = Sequential()\n",
    "model_LSTM.add(Embedding(total_words+1, embedding_vecor_length, input_length=30)) # input_length was originally 350\n",
    "model_LSTM.add(LSTM(64, return_sequences=True))  # Standard LSTM layer\n",
    "model_LSTM.add(LSTM(64))\n",
    "model_LSTM.add(Dense(1, activation='sigmoid'))\n",
    "\n",
    "model_LSTM.compile(loss='mean_squared_error', optimizer='rmsprop', metrics=['mse'])\n",
    "print(model_LSTM.summary())"
   ]
  },
  {
   "cell_type": "code",
   "execution_count": 10,
   "metadata": {},
   "outputs": [
    {
     "data": {
      "text/plain": [
       "[<tensorflow.python.keras.callbacks.ModelCheckpoint at 0x2d35686c6b0>]"
      ]
     },
     "execution_count": 10,
     "metadata": {},
     "output_type": "execute_result"
    }
   ],
   "source": [
    "filepath=\"weights-improvement-{epoch:02d}-{val_loss:.2f}.hdf5\"\n",
    "checkpoint = ModelCheckpoint(filepath, monitor='val_loss', verbose=1, save_best_only=True, mode='max')\n",
    "callbacks_list = [checkpoint]\n",
    "callbacks_list"
   ]
  },
  {
   "cell_type": "code",
   "execution_count": 12,
   "metadata": {},
   "outputs": [
    {
     "name": "stdout",
     "output_type": "stream",
     "text": [
      "Epoch 1/5\n",
      "293/293 [==============================] - 48s 163ms/step - loss: 0.0180 - mse: 0.0180 - val_loss: 0.0182 - val_mse: 0.0182\n",
      "\n",
      "Epoch 00001: val_loss did not improve from 0.01891\n",
      "Epoch 2/5\n",
      "293/293 [==============================] - 48s 163ms/step - loss: 0.0171 - mse: 0.0171 - val_loss: 0.0176 - val_mse: 0.0176\n",
      "\n",
      "Epoch 00002: val_loss did not improve from 0.01891\n",
      "Epoch 3/5\n",
      "293/293 [==============================] - 48s 165ms/step - loss: 0.0167 - mse: 0.0167 - val_loss: 0.0175 - val_mse: 0.0175\n",
      "\n",
      "Epoch 00003: val_loss did not improve from 0.01891\n",
      "Epoch 4/5\n",
      "293/293 [==============================] - 92s 314ms/step - loss: 0.0163 - mse: 0.0163 - val_loss: 0.0176 - val_mse: 0.0176\n",
      "\n",
      "Epoch 00004: val_loss did not improve from 0.01891\n",
      "Epoch 5/5\n",
      "293/293 [==============================] - 48s 164ms/step - loss: 0.0160 - mse: 0.0160 - val_loss: 0.0177 - val_mse: 0.0177\n",
      "\n",
      "Epoch 00005: val_loss did not improve from 0.01891\n"
     ]
    }
   ],
   "source": [
    "history = model_LSTM.fit(lstm_train, y_train, epochs=5, batch_size=2048, validation_data=(lstm_cv, y_cv), verbose = 1, callbacks=callbacks_list)"
   ]
  },
  {
   "cell_type": "code",
   "execution_count": 13,
   "metadata": {},
   "outputs": [],
   "source": [
    "# Save LSTM model\n",
    "# model_LSTM.save('lstm_model.h5')\n",
    "# tf.keras.models.save_model(model_LSTM, 'lstm_model.h5')"
   ]
  },
  {
   "cell_type": "markdown",
   "metadata": {},
   "source": [
    "### Loss Curves"
   ]
  },
  {
   "cell_type": "code",
   "execution_count": 13,
   "metadata": {},
   "outputs": [
    {
     "data": {
      "text/plain": [
       "Text(0.5, 1.0, 'Loss Curves')"
      ]
     },
     "execution_count": 13,
     "metadata": {},
     "output_type": "execute_result"
    },
    {
     "data": {
      "image/png": "[encoded data removed]",
      "text/plain": [
       "<Figure size 800x600 with 1 Axes>"
      ]
     },
     "metadata": {},
     "output_type": "display_data"
    }
   ],
   "source": [
    "# Loss Curves\n",
    "plt.figure(figsize=[8,6])\n",
    "plt.plot(history.history['loss'],'r',linewidth=3.0)\n",
    "plt.plot(history.history['val_loss'],'b',linewidth=3.0)\n",
    "plt.legend(['Training loss', 'Validation Loss'],fontsize=18)\n",
    "plt.xlabel('Epochs ',fontsize=16)\n",
    "plt.ylabel('Loss',fontsize=16)\n",
    "plt.title('Loss Curves',fontsize=16)"
   ]
  },
  {
   "cell_type": "markdown",
   "metadata": {},
   "source": [
    "### Test the model"
   ]
  },
  {
   "cell_type": "code",
   "execution_count": 28,
   "metadata": {},
   "outputs": [
    {
     "name": "stdout",
     "output_type": "stream",
     "text": [
      "0.021458346\n",
      "'Don't talk like that' is not toxic.\n"
     ]
    }
   ],
   "source": [
    "# Preprocess the new sentence\n",
    "new_sentence = \"Don't talk like that\"\n",
    "preprocessed_sentence = text_feat.transform([new_sentence])\n",
    "prediction = model_LSTM.predict(preprocessed_sentence)\n",
    "\n",
    "toxicity_threshold = 0.5\n",
    "# toxicity_threshold = optimal_threshold\n",
    "is_toxic = prediction[0][0] >= toxicity_threshold\n",
    "\n",
    "print(prediction[0][0])\n",
    "if is_toxic:\n",
    "    print(f\"'{new_sentence}' is toxic.\")\n",
    "else:\n",
    "    print(f\"'{new_sentence}' is not toxic.\")\n"
   ]
  },
  {
   "cell_type": "markdown",
   "metadata": {},
   "source": [
    "<h1 id=\"GRU\">GRU</h1>"
   ]
  },
  {
   "cell_type": "markdown",
   "metadata": {},
   "source": [
    "### Create the GRU model"
   ]
  },
  {
   "cell_type": "code",
   "execution_count": 29,
   "metadata": {},
   "outputs": [
    {
     "name": "stdout",
     "output_type": "stream",
     "text": [
      "Model: \"sequential_1\"\n",
      "_________________________________________________________________\n",
      "Layer (type)                 Output Shape              Param #   \n",
      "=================================================================\n",
      "embedding_1 (Embedding)      (None, 30, 30)            3900870   \n",
      "_________________________________________________________________\n",
      "gru (GRU)                    (None, 30, 128)           61056     \n",
      "_________________________________________________________________\n",
      "dropout (Dropout)            (None, 30, 128)           0         \n",
      "_________________________________________________________________\n",
      "gru_1 (GRU)                  (None, 64)                37056     \n",
      "_________________________________________________________________\n",
      "dropout_1 (Dropout)          (None, 64)                0         \n",
      "_________________________________________________________________\n",
      "dense_1 (Dense)              (None, 1)                 65        \n",
      "=================================================================\n",
      "Total params: 3,999,047\n",
      "Trainable params: 3,999,047\n",
      "Non-trainable params: 0\n",
      "_________________________________________________________________\n"
     ]
    }
   ],
   "source": [
    "import tensorflow as tf\n",
    "from tensorflow.python.keras.models import Sequential\n",
    "from tensorflow.python.keras.layers.recurrent import GRU\n",
    "\n",
    "# Define the model\n",
    "model_GRU = Sequential()\n",
    "model_GRU.add(Embedding(input_dim=total_words+1, output_dim=embedding_vecor_length, input_length=30))\n",
    "model_GRU.add(GRU(128, return_sequences=True))\n",
    "model_GRU.add(Dropout(0.2))\n",
    "model_GRU.add(GRU(64))\n",
    "model_GRU.add(Dropout(0.2))\n",
    "model_GRU.add(Dense(1, activation='sigmoid'))\n",
    "\n",
    "# Compile the model\n",
    "model_GRU.compile(loss='binary_crossentropy', optimizer='adam', metrics=['accuracy'])\n",
    "\n",
    "# Print the model summary\n",
    "model_GRU.summary()\n"
   ]
  },
  {
   "cell_type": "code",
   "execution_count": 30,
   "metadata": {},
   "outputs": [
    {
     "data": {
      "text/plain": [
       "[<tensorflow.python.keras.callbacks.ModelCheckpoint at 0x2d36747a150>]"
      ]
     },
     "execution_count": 30,
     "metadata": {},
     "output_type": "execute_result"
    }
   ],
   "source": [
    "filepath=\"weights-improvement-{epoch:02d}-{val_loss:.2f}.hdf5\"\n",
    "checkpoint = ModelCheckpoint(filepath, monitor='val_loss', verbose=1, save_best_only=True, mode='max')\n",
    "callbacks_list = [checkpoint]\n",
    "callbacks_list"
   ]
  },
  {
   "cell_type": "code",
   "execution_count": 32,
   "metadata": {},
   "outputs": [
    {
     "name": "stdout",
     "output_type": "stream",
     "text": [
      "Epoch 1/5\n",
      "293/293 [==============================] - 74s 252ms/step - loss: 0.2500 - accuracy: 0.6989 - val_loss: 0.2476 - val_accuracy: 0.7007\n",
      "\n",
      "Epoch 00001: val_loss did not improve from 0.25241\n",
      "Epoch 2/5\n",
      "293/293 [==============================] - 74s 251ms/step - loss: 0.2437 - accuracy: 0.6992 - val_loss: 0.2472 - val_accuracy: 0.7006\n",
      "\n",
      "Epoch 00002: val_loss did not improve from 0.25241\n",
      "Epoch 3/5\n",
      "293/293 [==============================] - 76s 258ms/step - loss: 0.2407 - accuracy: 0.6993 - val_loss: 0.2490 - val_accuracy: 0.7007\n",
      "\n",
      "Epoch 00003: val_loss did not improve from 0.25241\n",
      "Epoch 4/5\n",
      "293/293 [==============================] - 89s 303ms/step - loss: 0.2377 - accuracy: 0.6995 - val_loss: 0.2496 - val_accuracy: 0.7000\n",
      "\n",
      "Epoch 00004: val_loss did not improve from 0.25241\n",
      "Epoch 5/5\n",
      "293/293 [==============================] - 88s 302ms/step - loss: 0.2346 - accuracy: 0.6998 - val_loss: 0.2509 - val_accuracy: 0.7002\n",
      "\n",
      "Epoch 00005: val_loss did not improve from 0.25241\n"
     ]
    }
   ],
   "source": [
    "# Train the model\n",
    "history = model_GRU.fit(\n",
    "    lstm_train, \n",
    "    y_train,\n",
    "    epochs=5,\n",
    "    batch_size=2048,\n",
    "    # batch_size=32,\n",
    "    validation_data=(lstm_cv, y_cv), \n",
    "    verbose = 1, \n",
    "    callbacks=callbacks_list\n",
    ")"
   ]
  },
  {
   "cell_type": "markdown",
   "metadata": {},
   "source": [
    "### Loss Curves"
   ]
  },
  {
   "cell_type": "code",
   "execution_count": 33,
   "metadata": {},
   "outputs": [
    {
     "data": {
      "text/plain": [
       "Text(0.5, 1.0, 'Loss Curves')"
      ]
     },
     "execution_count": 33,
     "metadata": {},
     "output_type": "execute_result"
    },
    {
     "data": {
      "image/png": "[encoded data removed]",
      "text/plain": [
       "<Figure size 800x600 with 1 Axes>"
      ]
     },
     "metadata": {},
     "output_type": "display_data"
    }
   ],
   "source": [
    "# Loss Curves\n",
    "plt.figure(figsize=[8,6])\n",
    "plt.plot(history.history['loss'],'r',linewidth=3.0)\n",
    "plt.plot(history.history['val_loss'],'b',linewidth=3.0)\n",
    "plt.legend(['Training loss', 'Validation Loss'],fontsize=18)\n",
    "plt.xlabel('Epochs ',fontsize=16)\n",
    "plt.ylabel('Loss',fontsize=16)\n",
    "plt.title('Loss Curves',fontsize=16)"
   ]
  },
  {
   "cell_type": "markdown",
   "metadata": {},
   "source": [
    "### Test the model"
   ]
  },
  {
   "cell_type": "code",
   "execution_count": 2,
   "metadata": {},
   "outputs": [
    {
     "ename": "NameError",
     "evalue": "name 'text_feat' is not defined",
     "output_type": "error",
     "traceback": [
      "\u001b[1;31m---------------------------------------------------------------------------\u001b[0m",
      "\u001b[1;31mNameError\u001b[0m                                 Traceback (most recent call last)",
      "Cell \u001b[1;32mIn[2], line 3\u001b[0m\n\u001b[0;32m      1\u001b[0m \u001b[38;5;66;03m# Preprocess the new sentence\u001b[39;00m\n\u001b[0;32m      2\u001b[0m new_sentence \u001b[38;5;241m=\u001b[39m \u001b[38;5;124m\"\u001b[39m\u001b[38;5;124mDon\u001b[39m\u001b[38;5;124m'\u001b[39m\u001b[38;5;124mt talk like that\u001b[39m\u001b[38;5;124m\"\u001b[39m\n\u001b[1;32m----> 3\u001b[0m preprocessed_sentence \u001b[38;5;241m=\u001b[39m \u001b[43mtext_feat\u001b[49m\u001b[38;5;241m.\u001b[39mtransform([new_sentence])\n\u001b[0;32m      5\u001b[0m \u001b[38;5;66;03m# Perform prediction\u001b[39;00m\n\u001b[0;32m      6\u001b[0m prediction \u001b[38;5;241m=\u001b[39m model_GRU\u001b[38;5;241m.\u001b[39mpredict(preprocessed_sentence)\n",
      "\u001b[1;31mNameError\u001b[0m: name 'text_feat' is not defined"
     ]
    }
   ],
   "source": [
    "# Preprocess the new sentence\n",
    "new_sentence = \"Don't talk like that\"\n",
    "preprocessed_sentence = text_feat.transform([new_sentence])\n",
    "\n",
    "# Perform prediction\n",
    "prediction = model_GRU.predict(preprocessed_sentence)\n",
    "\n",
    "# Interpret the prediction (assuming binary classification)\n",
    "toxicity_threshold = 0.05\n",
    "is_toxic = prediction[0][0] >= toxicity_threshold\n",
    "print(prediction[0][0])\n",
    "\n",
    "if is_toxic:\n",
    "    print(\"The sentence is toxic.\")\n",
    "else:\n",
    "    print(\"The sentence is not toxic.\")\n"
   ]
  },
  {
   "cell_type": "code",
   "execution_count": 1,
   "metadata": {},
   "outputs": [
    {
     "ename": "NameError",
     "evalue": "name 'pd' is not defined",
     "output_type": "error",
     "traceback": [
      "\u001b[1;31m---------------------------------------------------------------------------\u001b[0m",
      "\u001b[1;31mNameError\u001b[0m                                 Traceback (most recent call last)",
      "Cell \u001b[1;32mIn[1], line 3\u001b[0m\n\u001b[0;32m      1\u001b[0m \u001b[38;5;28;01mfrom\u001b[39;00m \u001b[38;5;21;01msklearn\u001b[39;00m\u001b[38;5;21;01m.\u001b[39;00m\u001b[38;5;21;01mmetrics\u001b[39;00m \u001b[38;5;28;01mimport\u001b[39;00m accuracy_score, precision_score, recall_score, f1_score, roc_auc_score\n\u001b[1;32m----> 3\u001b[0m test_df \u001b[38;5;241m=\u001b[39m \u001b[43mpd\u001b[49m\u001b[38;5;241m.\u001b[39mread_csv(\u001b[38;5;124m'\u001b[39m\u001b[38;5;124m./data/test.csv\u001b[39m\u001b[38;5;124m'\u001b[39m, index_col\u001b[38;5;241m=\u001b[39m\u001b[38;5;124m'\u001b[39m\u001b[38;5;124mid\u001b[39m\u001b[38;5;124m'\u001b[39m, engine\u001b[38;5;241m=\u001b[39m\u001b[38;5;124m'\u001b[39m\u001b[38;5;124mpython\u001b[39m\u001b[38;5;124m'\u001b[39m)\n\u001b[0;32m      4\u001b[0m y_test \u001b[38;5;241m=\u001b[39m test_df[\u001b[38;5;124m'\u001b[39m\u001b[38;5;124mtarget\u001b[39m\u001b[38;5;124m'\u001b[39m] \n\u001b[0;32m      6\u001b[0m \u001b[38;5;66;03m# Predict on test set\u001b[39;00m\n",
      "\u001b[1;31mNameError\u001b[0m: name 'pd' is not defined"
     ]
    }
   ],
   "source": [
    "from sklearn.metrics import accuracy_score, precision_score, recall_score, f1_score, roc_auc_score\n",
    "\n",
    "test_df = pd.read_csv('./data/test.csv', index_col='id', engine='python')\n",
    "y_test = test_df['target'] \n",
    "\n",
    "# Predict on test set\n",
    "lstm_predictions = model_LSTM.predict(lstm_test)\n",
    "gru_predictions = model_GRU.predict(lstm_test)\n",
    "\n",
    "# Binarize the predictions\n",
    "lstm_pred_binary = (lstm_predictions >= 0.5).astype(int)\n",
    "gru_pred_binary = (gru_predictions >= 0.5).astype(int)\n",
    "\n",
    "# Calculate metrics for LSTM\n",
    "lstm_accuracy = accuracy_score(y_test, lstm_pred_binary)\n",
    "lstm_precision = precision_score(y_test, lstm_pred_binary)\n",
    "lstm_recall = recall_score(y_test, lstm_pred_binary)\n",
    "lstm_f1 = f1_score(y_test, lstm_pred_binary)\n",
    "lstm_roc_auc = roc_auc_score(y_test, lstm_predictions)\n",
    "\n",
    "# Calculate metrics for GRU\n",
    "gru_accuracy = accuracy_score(y_test, gru_pred_binary)\n",
    "gru_precision = precision_score(y_test, gru_pred_binary)\n",
    "gru_recall = recall_score(y_test, gru_pred_binary)\n",
    "gru_f1 = f1_score(y_test, gru_pred_binary)\n",
    "gru_roc_auc = roc_auc_score(y_test, gru_predictions)\n",
    "\n",
    "# Print the results\n",
    "print(\"LSTM Model Performance:\")\n",
    "print(f\"Accuracy: {lstm_accuracy:.4f}\")\n",
    "print(f\"Precision: {lstm_precision:.4f}\")\n",
    "print(f\"Recall: {lstm_recall:.4f}\")\n",
    "print(f\"F1 Score: {lstm_f1:.4f}\")\n",
    "print(f\"ROC AUC: {lstm_roc_auc:.4f}\")\n",
    "\n",
    "print(\"\\nGRU Model Performance:\")\n",
    "print(f\"Accuracy: {gru_accuracy:.4f}\")\n",
    "print(f\"Precision: {gru_precision:.4f}\")\n",
    "print(f\"Recall: {gru_recall:.4f}\")\n",
    "print(f\"F1 Score: {gru_f1:.4f}\")\n",
    "print(f\"ROC AUC: {gru_roc_auc:.4f}\")\n",
    "\n",
    "# Plotting the comparison\n",
    "import matplotlib.pyplot as plt\n",
    "\n",
    "metrics = ['Accuracy', 'Precision', 'Recall', 'F1 Score', 'ROC AUC']\n",
    "lstm_scores = [lstm_accuracy, lstm_precision, lstm_recall, lstm_f1, lstm_roc_auc]\n",
    "gru_scores = [gru_accuracy, gru_precision, gru_recall, gru_f1, gru_roc_auc]\n",
    "\n",
    "x = np.arange(len(metrics))\n",
    "\n",
    "plt.figure(figsize=(12, 8))\n",
    "plt.bar(x - 0.2, lstm_scores, 0.4, label='LSTM')\n",
    "plt.bar(x + 0.2, gru_scores, 0.4, label='GRU')\n",
    "plt.xticks(x, metrics)\n",
    "plt.ylabel('Scores')\n",
    "plt.title('Comparison of LSTM and GRU Models')\n",
    "plt.legend()\n",
    "plt.show()\n"
   ]
  },
  {
   "cell_type": "code",
   "execution_count": null,
   "metadata": {},
   "outputs": [],
   "source": []
  }
 ],
 "metadata": {
  "kernelspec": {
   "display_name": "Python 3",
   "language": "python",
   "name": "python3"
  },
  "language_info": {
   "codemirror_mode": {
    "name": "ipython",
    "version": 3
   },
   "file_extension": ".py",
   "mimetype": "text/x-python",
   "name": "python",
   "nbconvert_exporter": "python",
   "pygments_lexer": "ipython3",
   "version": "3.12.3"
  }
 },
 "nbformat": 4,
 "nbformat_minor": 2
}
