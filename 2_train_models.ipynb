{
 "cells": [
  {
   "cell_type": "code",
   "execution_count": 1,
   "metadata": {},
   "outputs": [],
   "source": [
    "import numpy as np\n",
    "import pandas as pd\n",
    "import scipy\n",
    "import matplotlib.pyplot as plt\n",
    "import seaborn as sns\n",
    "import re\n",
    "from wordcloud import WordCloud, STOPWORDS\n",
    "import nltk\n",
    "from nltk.corpus import stopwords\n",
    "from nltk.stem import SnowballStemmer, PorterStemmer\n",
    "import math\n",
    "from collections import Counter\n",
    "\n",
    "\n",
    "from sklearn.feature_extraction.text import TfidfVectorizer, CountVectorizer\n",
    "from sklearn.model_selection import train_test_split\n",
    "from sklearn.metrics import roc_auc_score, roc_curve, auc, mean_squared_error\n",
    "from sklearn.decomposition import TruncatedSVD, PCA\n",
    "from sklearn.linear_model import LinearRegression, SGDRegressor\n",
    "from sklearn.svm import SVR\n",
    "from sklearn.tree import DecisionTreeRegressor\n",
    "from sklearn.ensemble import RandomForestRegressor, AdaBoostRegressor\n",
    "\n",
    "\n",
    "from xgboost import XGBRegressor\n",
    "# import gensim\n",
    "import string\n",
    "import tensorflow as tf\n",
    "import keras\n",
    "\n",
    "from tensorflow import keras\n",
    "\n",
    "\n",
    "from tensorflow.python.keras.callbacks import ModelCheckpoint\n",
    "from tensorflow.python.keras.models import Sequential\n",
    "from tensorflow.python.keras.layers.core import Dense, InputSpec\n",
    "from tensorflow.python.keras.layers.recurrent import LSTM\n",
    "# from tensorflow.python.keras.layers import CuDNNLSTM\n",
    "from tensorflow.python.keras.layers import Dropout\n",
    "from tensorflow.python.keras.layers.embeddings import Embedding\n",
    "import warnings\n",
    "from keras import backend as K\n",
    "warnings.filterwarnings(\"ignore\")\n",
    "# K.tensorflow_backend._get_available_gpus()\n",
    "\n",
    "from keras import __version__\n",
    "tf.keras.__version__ = __version__\n",
    "# from rl.agents import DQNAgent\n",
    "# from rl.policy import BoltzmannQPolicy\n",
    "# from rl.memory import SequentialMemory"
   ]
  },
  {
   "cell_type": "markdown",
   "metadata": {},
   "source": [
    "<h3>We will test two models in this Notebook</h3>\n",
    "\n",
    "1) [LSTM](#LSTM)\n",
    "2) [GRU](#GRU)"
   ]
  },
  {
   "cell_type": "markdown",
   "metadata": {},
   "source": [
    "## Load preprocessed files"
   ]
  },
  {
   "cell_type": "code",
   "execution_count": 2,
   "metadata": {},
   "outputs": [],
   "source": [
    "# To load the csv files:\n",
    "# Uncomment the block.\n",
    "X_train = pd.read_pickle('X_train.pkl')\n",
    "X_cv = pd.read_pickle('X_cv.pkl')\n",
    "X_test = pd.read_pickle('X_test.pkl')\n",
    "y_train = pd.read_pickle('y_train.pkl')\n",
    "y_cv = pd.read_pickle('y_cv.pkl')"
   ]
  },
  {
   "cell_type": "code",
   "execution_count": 3,
   "metadata": {},
   "outputs": [],
   "source": [
    "# # Example Tokenizer and Padding\n",
    "# from keras._tf_keras.keras.preprocessing.text import Tokenizer\n",
    "# from keras._tf_keras.keras.preprocessing.sequence import pad_sequences\n",
    "\n",
    "# tokenizer = Tokenizer(num_words=5000)\n",
    "# tokenizer.fit_on_texts(X_train)\n",
    "# X_train_seq = tokenizer.texts_to_sequences(X_train)\n",
    "# X_test_seq = tokenizer.texts_to_sequences(X_test)\n",
    "# X_train_pad = pad_sequences(X_train_seq, maxlen=30)\n",
    "# X_test_pad = pad_sequences(X_test_seq, maxlen=30)"
   ]
  },
  {
   "cell_type": "markdown",
   "metadata": {},
   "source": [
    "### Text Featurization Class"
   ]
  },
  {
   "cell_type": "code",
   "execution_count": 4,
   "metadata": {},
   "outputs": [],
   "source": [
    "import numpy as np\n",
    "import pandas as pd\n",
    "from keras_preprocessing.sequence import pad_sequences\n",
    "\n",
    "class TextFeaturization:\n",
    "    \n",
    "    def __init__(self, pad_length=30): # pad_length was originally 350\n",
    "        self.word_mapping = None\n",
    "        self.total_words = None\n",
    "        self.pad_length = pad_length\n",
    "        \n",
    "    def build_vocabulary(self, sentences):\n",
    "        vocab = set()\n",
    "        for x in sentences:\n",
    "            for word in x.split():\n",
    "                vocab.add(word)\n",
    "        vocab_dict = dict.fromkeys(vocab, 0)\n",
    "        for x in sentences:\n",
    "            for word in x.split():\n",
    "                vocab_dict[word] += 1\n",
    "        return vocab_dict\n",
    "    \n",
    "    def get_mapping(self, vocab_dict):\n",
    "        kv = np.array(list(vocab_dict.items()))\n",
    "        df = pd.DataFrame(kv, columns=[\"Word\", \"Count\"])\n",
    "        df['Count'] = df['Count'].astype('int')\n",
    "        df.sort_values(by=['Count'], ascending=False, inplace=True)\n",
    "        df['mapping'] = range(1, len(df) + 1)\n",
    "        df.drop(columns=['Count'], inplace=True)\n",
    "        return dict(zip(df['Word'], df['mapping']))\n",
    "    \n",
    "    def fit(self, sentences):\n",
    "        v = self.build_vocabulary(sentences)\n",
    "        self.word_mapping = self.get_mapping(v)\n",
    "        self.total_words = len(self.word_mapping)\n",
    "        \n",
    "    def transform(self, sentences):\n",
    "        if self.word_mapping is None:\n",
    "            raise ValueError(\"Fit method must be called before transform.\")\n",
    "        \n",
    "        whole = []\n",
    "        for x in sentences:\n",
    "            part = [self.word_mapping[word] for word in x.split() if word in self.word_mapping]\n",
    "            whole.append(part)\n",
    "        \n",
    "        padded_sequences = pad_sequences(whole, maxlen=self.pad_length)\n",
    "        return padded_sequences\n",
    "\n"
   ]
  },
  {
   "cell_type": "markdown",
   "metadata": {},
   "source": [
    "### Fit the model with the preprocessed text "
   ]
  },
  {
   "cell_type": "code",
   "execution_count": 5,
   "metadata": {},
   "outputs": [],
   "source": [
    "text_feat = TextFeaturization()\n",
    "text_feat.fit(X_train['preprocessed_text'])"
   ]
  },
  {
   "cell_type": "markdown",
   "metadata": {},
   "source": [
    "### Transform"
   ]
  },
  {
   "cell_type": "code",
   "execution_count": 6,
   "metadata": {},
   "outputs": [],
   "source": [
    "lstm_train = text_feat.transform(X_train['preprocessed_text'])\n",
    "lstm_test = text_feat.transform(X_test['preprocessed_text'])\n",
    "lstm_cv = text_feat.transform(X_cv['preprocessed_text'])"
   ]
  },
  {
   "cell_type": "code",
   "execution_count": 7,
   "metadata": {},
   "outputs": [
    {
     "name": "stdout",
     "output_type": "stream",
     "text": [
      "(375000, 30)\n",
      "(125000, 30)\n",
      "(80000, 30)\n"
     ]
    }
   ],
   "source": [
    "print(lstm_train.shape)\n",
    "print(lstm_cv.shape)\n",
    "print(lstm_test.shape)"
   ]
  },
  {
   "cell_type": "code",
   "execution_count": 8,
   "metadata": {},
   "outputs": [],
   "source": [
    "np.save('lstm_train.npy', lstm_train)\n",
    "np.save('lstm_cv.npy', lstm_cv)\n",
    "np.save('lstm_test.npy', lstm_test)"
   ]
  },
  {
   "cell_type": "markdown",
   "metadata": {},
   "source": [
    "## LSTM Model"
   ]
  },
  {
   "cell_type": "markdown",
   "metadata": {},
   "source": [
    "### Create the LSTM model"
   ]
  },
  {
   "cell_type": "code",
   "execution_count": 9,
   "metadata": {},
   "outputs": [
    {
     "name": "stdout",
     "output_type": "stream",
     "text": [
      "101690\n",
      "Model: \"sequential\"\n",
      "_________________________________________________________________\n",
      "Layer (type)                 Output Shape              Param #   \n",
      "=================================================================\n",
      "embedding (Embedding)        (None, 30, 30)            3050730   \n",
      "_________________________________________________________________\n",
      "lstm (LSTM)                  (None, 30, 64)            24320     \n",
      "_________________________________________________________________\n",
      "lstm_1 (LSTM)                (None, 64)                33024     \n",
      "_________________________________________________________________\n",
      "dense (Dense)                (None, 1)                 65        \n",
      "=================================================================\n",
      "Total params: 3,108,139\n",
      "Trainable params: 3,108,139\n",
      "Non-trainable params: 0\n",
      "_________________________________________________________________\n",
      "None\n"
     ]
    }
   ],
   "source": [
    "from tensorflow.python.keras.layers.recurrent import LSTM\n",
    "\n",
    "# Create the model\n",
    "# embedding_vecor_length = 100\n",
    "embedding_vecor_length = 30\n",
    "total_words = text_feat.total_words\n",
    "print(total_words)\n",
    "\n",
    "model_LSTM = Sequential()\n",
    "model_LSTM.add(Embedding(total_words+1, embedding_vecor_length, input_length=30)) # input_length was originally 350\n",
    "model_LSTM.add(LSTM(64, return_sequences=True))  # Standard LSTM layer\n",
    "model_LSTM.add(LSTM(64))\n",
    "model_LSTM.add(Dense(1, activation='sigmoid'))\n",
    "\n",
    "model_LSTM.compile(loss='mean_squared_error', optimizer='rmsprop', metrics=['mse'])\n",
    "print(model_LSTM.summary())"
   ]
  },
  {
   "cell_type": "code",
   "execution_count": 10,
   "metadata": {},
   "outputs": [
    {
     "data": {
      "text/plain": [
       "[<tensorflow.python.keras.callbacks.ModelCheckpoint at 0x2701b4228a0>]"
      ]
     },
     "execution_count": 10,
     "metadata": {},
     "output_type": "execute_result"
    }
   ],
   "source": [
    "filepath=\"weights-improvement-{epoch:02d}-{val_loss:.2f}.hdf5\"\n",
    "checkpoint = ModelCheckpoint(filepath, monitor='val_loss', verbose=1, save_best_only=True, mode='max')\n",
    "callbacks_list = [checkpoint]\n",
    "callbacks_list"
   ]
  },
  {
   "cell_type": "code",
   "execution_count": 12,
   "metadata": {},
   "outputs": [
    {
     "name": "stdout",
     "output_type": "stream",
     "text": [
      "Epoch 1/5\n",
      "184/184 [==============================] - 29s 158ms/step - loss: 0.0202 - mse: 0.0202 - val_loss: 0.0193 - val_mse: 0.0193\n",
      "\n",
      "Epoch 00001: val_loss did not improve from 0.02397\n",
      "Epoch 2/5\n",
      "184/184 [==============================] - 29s 156ms/step - loss: 0.0176 - mse: 0.0176 - val_loss: 0.0189 - val_mse: 0.0189\n",
      "\n",
      "Epoch 00002: val_loss did not improve from 0.02397\n",
      "Epoch 3/5\n",
      "184/184 [==============================] - 29s 155ms/step - loss: 0.0169 - mse: 0.0169 - val_loss: 0.0186 - val_mse: 0.0186\n",
      "\n",
      "Epoch 00003: val_loss did not improve from 0.02397\n",
      "Epoch 4/5\n",
      "184/184 [==============================] - 29s 155ms/step - loss: 0.0165 - mse: 0.0165 - val_loss: 0.0183 - val_mse: 0.0183\n",
      "\n",
      "Epoch 00004: val_loss did not improve from 0.02397\n",
      "Epoch 5/5\n",
      "184/184 [==============================] - 29s 155ms/step - loss: 0.0161 - mse: 0.0161 - val_loss: 0.0185 - val_mse: 0.0185\n",
      "\n",
      "Epoch 00005: val_loss did not improve from 0.02397\n"
     ]
    }
   ],
   "source": [
    "history = model_LSTM.fit(lstm_train, y_train, epochs=5, batch_size=2048, validation_data=(lstm_cv, y_cv), verbose = 1, callbacks=callbacks_list)"
   ]
  },
  {
   "cell_type": "code",
   "execution_count": 13,
   "metadata": {},
   "outputs": [],
   "source": [
    "# Save LSTM model\n",
    "# model_LSTM.save('lstm_model.h5')\n",
    "# tf.keras.models.save_model(model_LSTM, 'lstm_model.h5')"
   ]
  },
  {
   "cell_type": "markdown",
   "metadata": {},
   "source": [
    "### Loss Curves"
   ]
  },
  {
   "cell_type": "code",
   "execution_count": 14,
   "metadata": {},
   "outputs": [
    {
     "data": {
      "text/plain": [
       "Text(0.5, 1.0, 'Loss Curves')"
      ]
     },
     "execution_count": 14,
     "metadata": {},
     "output_type": "execute_result"
    },
    {
     "data": {
      "image/png": "[encoded data removed]",
      "text/plain": [
       "<Figure size 800x600 with 1 Axes>"
      ]
     },
     "metadata": {},
     "output_type": "display_data"
    }
   ],
   "source": [
    "# Loss Curves\n",
    "plt.figure(figsize=[8,6])\n",
    "plt.plot(history.history['loss'],'r',linewidth=3.0)\n",
    "plt.plot(history.history['val_loss'],'b',linewidth=3.0)\n",
    "plt.legend(['Training loss', 'Validation Loss'],fontsize=18)\n",
    "plt.xlabel('Epochs ',fontsize=16)\n",
    "plt.ylabel('Loss',fontsize=16)\n",
    "plt.title('Loss Curves',fontsize=16)"
   ]
  },
  {
   "cell_type": "markdown",
   "metadata": {},
   "source": [
    "### Test the model"
   ]
  },
  {
   "cell_type": "code",
   "execution_count": 33,
   "metadata": {},
   "outputs": [
    {
     "name": "stdout",
     "output_type": "stream",
     "text": [
      "0.32419938\n",
      "'Don't talk like that you racist' is not toxic.\n"
     ]
    }
   ],
   "source": [
    "# Preprocess the new sentence\n",
    "new_sentence = \"Don't talk like that you racist\"\n",
    "preprocessed_sentence = text_feat.transform([new_sentence])\n",
    "prediction = model_LSTM.predict(preprocessed_sentence)\n",
    "\n",
    "toxicity_threshold = 0.5\n",
    "# toxicity_threshold = optimal_threshold\n",
    "is_toxic = prediction[0][0] >= toxicity_threshold\n",
    "\n",
    "print(prediction[0][0])\n",
    "if is_toxic:\n",
    "    print(f\"'{new_sentence}' is toxic.\")\n",
    "else:\n",
    "    print(f\"'{new_sentence}' is not toxic.\")\n"
   ]
  },
  {
   "cell_type": "markdown",
   "metadata": {},
   "source": [
    "<h1 id=\"GRU\">GRU</h1>"
   ]
  },
  {
   "cell_type": "markdown",
   "metadata": {},
   "source": [
    "### Create the GRU model"
   ]
  },
  {
   "cell_type": "code",
   "execution_count": null,
   "metadata": {},
   "outputs": [
    {
     "name": "stdout",
     "output_type": "stream",
     "text": [
      "Model: \"sequential_1\"\n",
      "_________________________________________________________________\n",
      "Layer (type)                 Output Shape              Param #   \n",
      "=================================================================\n",
      "embedding_1 (Embedding)      (None, 30, 30)            3050730   \n",
      "_________________________________________________________________\n",
      "gru (GRU)                    (None, 30, 128)           61056     \n",
      "_________________________________________________________________\n",
      "dropout (Dropout)            (None, 30, 128)           0         \n",
      "_________________________________________________________________\n",
      "gru_1 (GRU)                  (None, 64)                37056     \n",
      "_________________________________________________________________\n",
      "dropout_1 (Dropout)          (None, 64)                0         \n",
      "_________________________________________________________________\n",
      "dense_1 (Dense)              (None, 1)                 65        \n",
      "=================================================================\n",
      "Total params: 3,148,907\n",
      "Trainable params: 3,148,907\n",
      "Non-trainable params: 0\n",
      "_________________________________________________________________\n"
     ]
    }
   ],
   "source": [
    "import tensorflow as tf\n",
    "from tensorflow.python.keras.models import Sequential\n",
    "from tensorflow.python.keras.layers.recurrent import GRU\n",
    "\n",
    "# Define the model\n",
    "model_GRU = Sequential()\n",
    "model_GRU.add(Embedding(input_dim=total_words+1, output_dim=embedding_vecor_length, input_length=30))\n",
    "model_GRU.add(GRU(128, return_sequences=True))\n",
    "model_GRU.add(Dropout(0.2))\n",
    "model_GRU.add(GRU(64))\n",
    "model_GRU.add(Dropout(0.2))\n",
    "model_GRU.add(Dense(1, activation='sigmoid'))\n",
    "\n",
    "# Compile the model\n",
    "model_GRU.compile(loss='binary_crossentropy', optimizer='adam', metrics=['accuracy'])\n",
    "\n",
    "# Print the model summary\n",
    "model_GRU.summary()\n"
   ]
  },
  {
   "cell_type": "code",
   "execution_count": null,
   "metadata": {},
   "outputs": [
    {
     "data": {
      "text/plain": [
       "[<tensorflow.python.keras.callbacks.ModelCheckpoint at 0x2c4f2a7bc20>]"
      ]
     },
     "execution_count": 33,
     "metadata": {},
     "output_type": "execute_result"
    }
   ],
   "source": [
    "filepath=\"weights-improvement-{epoch:02d}-{val_loss:.2f}.hdf5\"\n",
    "checkpoint = ModelCheckpoint(filepath, monitor='val_loss', verbose=1, save_best_only=True, mode='max')\n",
    "callbacks_list = [checkpoint]\n",
    "callbacks_list"
   ]
  },
  {
   "cell_type": "code",
   "execution_count": null,
   "metadata": {},
   "outputs": [
    {
     "name": "stdout",
     "output_type": "stream",
     "text": [
      "Epoch 1/5\n",
      "184/184 [==============================] - 42s 228ms/step - loss: 0.2522 - accuracy: 0.6992 - val_loss: 0.2523 - val_accuracy: 0.6995\n",
      "\n",
      "Epoch 00001: val_loss did not improve from 0.25992\n",
      "Epoch 2/5\n",
      "184/184 [==============================] - 42s 227ms/step - loss: 0.2439 - accuracy: 0.6996 - val_loss: 0.2508 - val_accuracy: 0.7000\n",
      "\n",
      "Epoch 00002: val_loss did not improve from 0.25992\n",
      "Epoch 3/5\n",
      "184/184 [==============================] - 42s 228ms/step - loss: 0.2393 - accuracy: 0.6998 - val_loss: 0.2521 - val_accuracy: 0.7000\n",
      "\n",
      "Epoch 00003: val_loss did not improve from 0.25992\n",
      "Epoch 4/5\n",
      "184/184 [==============================] - 42s 228ms/step - loss: 0.2358 - accuracy: 0.7000 - val_loss: 0.2531 - val_accuracy: 0.6998\n",
      "\n",
      "Epoch 00004: val_loss did not improve from 0.25992\n",
      "Epoch 5/5\n",
      "184/184 [==============================] - 42s 229ms/step - loss: 0.2324 - accuracy: 0.7001 - val_loss: 0.2554 - val_accuracy: 0.6996\n",
      "\n",
      "Epoch 00005: val_loss did not improve from 0.25992\n"
     ]
    }
   ],
   "source": [
    "# Train the model\n",
    "history = model_GRU.fit(\n",
    "    lstm_train, \n",
    "    y_train,\n",
    "    epochs=5,\n",
    "    batch_size=2048,\n",
    "    # batch_size=32,\n",
    "    validation_data=(lstm_cv, y_cv), \n",
    "    verbose = 1, \n",
    "    callbacks=callbacks_list\n",
    ")"
   ]
  },
  {
   "cell_type": "markdown",
   "metadata": {},
   "source": [
    "### Loss Curves"
   ]
  },
  {
   "cell_type": "code",
   "execution_count": null,
   "metadata": {},
   "outputs": [
    {
     "data": {
      "text/plain": [
       "Text(0.5, 1.0, 'Loss Curves')"
      ]
     },
     "execution_count": 36,
     "metadata": {},
     "output_type": "execute_result"
    },
    {
     "data": {
      "image/png": "[encoded data removed]",
      "text/plain": [
       "<Figure size 800x600 with 1 Axes>"
      ]
     },
     "metadata": {},
     "output_type": "display_data"
    }
   ],
   "source": [
    "# Loss Curves\n",
    "plt.figure(figsize=[8,6])\n",
    "plt.plot(history.history['loss'],'r',linewidth=3.0)\n",
    "plt.plot(history.history['val_loss'],'b',linewidth=3.0)\n",
    "plt.legend(['Training loss', 'Validation Loss'],fontsize=18)\n",
    "plt.xlabel('Epochs ',fontsize=16)\n",
    "plt.ylabel('Loss',fontsize=16)\n",
    "plt.title('Loss Curves',fontsize=16)"
   ]
  },
  {
   "cell_type": "markdown",
   "metadata": {},
   "source": [
    "### Test the model"
   ]
  },
  {
   "cell_type": "code",
   "execution_count": null,
   "metadata": {},
   "outputs": [
    {
     "name": "stdout",
     "output_type": "stream",
     "text": [
      "0.9479252\n",
      "The sentence is toxic.\n"
     ]
    }
   ],
   "source": [
    "# Preprocess the new sentence\n",
    "new_sentence = \"fuck\"\n",
    "preprocessed_sentence = text_feat.transform([new_sentence])\n",
    "\n",
    "# Perform prediction\n",
    "prediction = model_GRU.predict(preprocessed_sentence)\n",
    "\n",
    "# Interpret the prediction (assuming binary classification)\n",
    "toxicity_threshold = 0.05\n",
    "is_toxic = prediction[0][0] >= toxicity_threshold\n",
    "print(prediction[0][0])\n",
    "\n",
    "if is_toxic:\n",
    "    print(\"The sentence is toxic.\")\n",
    "else:\n",
    "    print(\"The sentence is not toxic.\")\n"
   ]
  },
  {
   "cell_type": "code",
   "execution_count": null,
   "metadata": {},
   "outputs": [],
   "source": []
  }
 ],
 "metadata": {
  "kernelspec": {
   "display_name": "Python 3",
   "language": "python",
   "name": "python3"
  },
  "language_info": {
   "codemirror_mode": {
    "name": "ipython",
    "version": 3
   },
   "file_extension": ".py",
   "mimetype": "text/x-python",
   "name": "python",
   "nbconvert_exporter": "python",
   "pygments_lexer": "ipython3",
   "version": "3.12.3"
  }
 },
 "nbformat": 4,
 "nbformat_minor": 2
}
