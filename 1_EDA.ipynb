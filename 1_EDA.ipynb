{
 "cells": [
  {
   "cell_type": "markdown",
   "metadata": {},
   "source": []
  },
  {
   "cell_type": "markdown",
   "metadata": {},
   "source": [
    "## 1. Task Target\n",
    "### Description\n",
    "<p>We are going to train two models to detect wether the inputed text/comment from the user is a hate/toxic text or not</p>\n",
    "\n",
    "### Examples"
   ]
  },
  {
   "cell_type": "markdown",
   "metadata": {},
   "source": [
    "## 2 Data information and methods used\n",
    "\n",
    "### 2.1 Our Data files\n",
    "<ol>\n",
    "<li>all_data.csv</li>\n",
    "<li>identity_individual_annotations.csv</li>\n",
    "<li>sample_submission.csv</li>\n",
    "<li>test.csv</li>\n",
    "<li>test_private_expanded.csv</li>\n",
    "<li>test_public_expanded.csv</li>\n",
    "<li>toxicity_individual_annotations.csv</li>\n",
    "<li>train.csv</li>\n",
    "</ol>\n",
    "\n",
    "All the datasets are from the Kaggle challenge \"Jigsaw Unintended Bias in Toxicity Classification\"<br>\n",
    "link: https://www.kaggle.com/c/jigsaw-unintended-bias-in-toxicity-classification<br>\n",
    "\n",
    "### 2.3 Performance Metric\n",
    "\n",
    "The competition will use ROC_AUC as the metric after converting the numeric target variable into a categorical variable by using a threshold of 0.5. Any comment above 0.5 will be assumed to be toxic and below it non-toxic. For our training and evaluation we will use the MSE(Mean Squared Error).<br>\n",
    "\n",
    "### 2.4 Constraints\n",
    "\n",
    "**Objectives:** Predict the toxicity of a comment made by the user. (0 -> not toxic, 1 -> highest toxicity level)\n",
    "\n",
    "**Constraints:**\n",
    "- The model should be fast to predict the toxicity rating.\n",
    "- Interpretability is not needed."
   ]
  },
  {
   "cell_type": "markdown",
   "metadata": {},
   "source": [
    "## Importing libraries"
   ]
  },
  {
   "cell_type": "code",
   "execution_count": 1,
   "metadata": {},
   "outputs": [],
   "source": [
    "import numpy as np\n",
    "import pandas as pd\n",
    "import scipy\n",
    "import matplotlib.pyplot as plt\n",
    "import seaborn as sns\n",
    "import re\n",
    "from wordcloud import WordCloud, STOPWORDS\n",
    "import nltk\n",
    "from nltk.corpus import stopwords\n",
    "from nltk.stem import SnowballStemmer, PorterStemmer\n",
    "import math\n",
    "from collections import Counter\n",
    "\n",
    "\n",
    "from sklearn.feature_extraction.text import TfidfVectorizer, CountVectorizer\n",
    "from sklearn.model_selection import train_test_split\n",
    "from sklearn.metrics import roc_auc_score, roc_curve, auc, mean_squared_error\n",
    "from sklearn.decomposition import TruncatedSVD, PCA\n",
    "from sklearn.linear_model import LinearRegression, SGDRegressor\n",
    "from sklearn.svm import SVR\n",
    "from sklearn.tree import DecisionTreeRegressor\n",
    "from sklearn.ensemble import RandomForestRegressor, AdaBoostRegressor\n",
    "\n",
    "\n",
    "from xgboost import XGBRegressor\n",
    "# import gensim\n",
    "import string\n",
    "import tensorflow as tf\n",
    "import keras\n",
    "\n",
    "from tensorflow import keras\n",
    "\n",
    "\n",
    "from tensorflow.python.keras.callbacks import ModelCheckpoint\n",
    "from tensorflow.python.keras.models import Sequential\n",
    "from tensorflow.python.keras.layers.core import Dense, InputSpec\n",
    "from tensorflow.python.keras.layers.recurrent import LSTM\n",
    "# from tensorflow.python.keras.layers import CuDNNLSTM\n",
    "from tensorflow.python.keras.layers import Dropout\n",
    "from tensorflow.python.keras.layers.embeddings import Embedding\n",
    "import warnings\n",
    "from keras import backend as K\n",
    "warnings.filterwarnings(\"ignore\")\n",
    "# K.tensorflow_backend._get_available_gpus()"
   ]
  },
  {
   "cell_type": "markdown",
   "metadata": {},
   "source": [
    "## Reading Data"
   ]
  },
  {
   "cell_type": "code",
   "execution_count": 2,
   "metadata": {},
   "outputs": [
    {
     "data": {
      "text/html": [
       "<div>\n",
       "<style scoped>\n",
       "    .dataframe tbody tr th:only-of-type {\n",
       "        vertical-align: middle;\n",
       "    }\n",
       "\n",
       "    .dataframe tbody tr th {\n",
       "        vertical-align: top;\n",
       "    }\n",
       "\n",
       "    .dataframe thead th {\n",
       "        text-align: right;\n",
       "    }\n",
       "</style>\n",
       "<table border=\"1\" class=\"dataframe\">\n",
       "  <thead>\n",
       "    <tr style=\"text-align: right;\">\n",
       "      <th></th>\n",
       "      <th>target</th>\n",
       "      <th>comment_text</th>\n",
       "      <th>severe_toxicity</th>\n",
       "      <th>obscene</th>\n",
       "      <th>identity_attack</th>\n",
       "      <th>insult</th>\n",
       "      <th>threat</th>\n",
       "      <th>asian</th>\n",
       "      <th>atheist</th>\n",
       "      <th>bisexual</th>\n",
       "      <th>...</th>\n",
       "      <th>article_id</th>\n",
       "      <th>rating</th>\n",
       "      <th>funny</th>\n",
       "      <th>wow</th>\n",
       "      <th>sad</th>\n",
       "      <th>likes</th>\n",
       "      <th>disagree</th>\n",
       "      <th>sexual_explicit</th>\n",
       "      <th>identity_annotator_count</th>\n",
       "      <th>toxicity_annotator_count</th>\n",
       "    </tr>\n",
       "    <tr>\n",
       "      <th>id</th>\n",
       "      <th></th>\n",
       "      <th></th>\n",
       "      <th></th>\n",
       "      <th></th>\n",
       "      <th></th>\n",
       "      <th></th>\n",
       "      <th></th>\n",
       "      <th></th>\n",
       "      <th></th>\n",
       "      <th></th>\n",
       "      <th></th>\n",
       "      <th></th>\n",
       "      <th></th>\n",
       "      <th></th>\n",
       "      <th></th>\n",
       "      <th></th>\n",
       "      <th></th>\n",
       "      <th></th>\n",
       "      <th></th>\n",
       "      <th></th>\n",
       "      <th></th>\n",
       "    </tr>\n",
       "  </thead>\n",
       "  <tbody>\n",
       "    <tr>\n",
       "      <th>59848</th>\n",
       "      <td>0.000000</td>\n",
       "      <td>This is so cool. It's like, 'would you want yo...</td>\n",
       "      <td>0.000000</td>\n",
       "      <td>0.0</td>\n",
       "      <td>0.000000</td>\n",
       "      <td>0.00000</td>\n",
       "      <td>0.0</td>\n",
       "      <td>NaN</td>\n",
       "      <td>NaN</td>\n",
       "      <td>NaN</td>\n",
       "      <td>...</td>\n",
       "      <td>2006</td>\n",
       "      <td>rejected</td>\n",
       "      <td>0</td>\n",
       "      <td>0</td>\n",
       "      <td>0</td>\n",
       "      <td>0</td>\n",
       "      <td>0</td>\n",
       "      <td>0.0</td>\n",
       "      <td>0</td>\n",
       "      <td>4</td>\n",
       "    </tr>\n",
       "    <tr>\n",
       "      <th>59849</th>\n",
       "      <td>0.000000</td>\n",
       "      <td>Thank you!! This would make my life a lot less...</td>\n",
       "      <td>0.000000</td>\n",
       "      <td>0.0</td>\n",
       "      <td>0.000000</td>\n",
       "      <td>0.00000</td>\n",
       "      <td>0.0</td>\n",
       "      <td>NaN</td>\n",
       "      <td>NaN</td>\n",
       "      <td>NaN</td>\n",
       "      <td>...</td>\n",
       "      <td>2006</td>\n",
       "      <td>rejected</td>\n",
       "      <td>0</td>\n",
       "      <td>0</td>\n",
       "      <td>0</td>\n",
       "      <td>0</td>\n",
       "      <td>0</td>\n",
       "      <td>0.0</td>\n",
       "      <td>0</td>\n",
       "      <td>4</td>\n",
       "    </tr>\n",
       "    <tr>\n",
       "      <th>59852</th>\n",
       "      <td>0.000000</td>\n",
       "      <td>This is such an urgent design problem; kudos t...</td>\n",
       "      <td>0.000000</td>\n",
       "      <td>0.0</td>\n",
       "      <td>0.000000</td>\n",
       "      <td>0.00000</td>\n",
       "      <td>0.0</td>\n",
       "      <td>NaN</td>\n",
       "      <td>NaN</td>\n",
       "      <td>NaN</td>\n",
       "      <td>...</td>\n",
       "      <td>2006</td>\n",
       "      <td>rejected</td>\n",
       "      <td>0</td>\n",
       "      <td>0</td>\n",
       "      <td>0</td>\n",
       "      <td>0</td>\n",
       "      <td>0</td>\n",
       "      <td>0.0</td>\n",
       "      <td>0</td>\n",
       "      <td>4</td>\n",
       "    </tr>\n",
       "    <tr>\n",
       "      <th>59855</th>\n",
       "      <td>0.000000</td>\n",
       "      <td>Is this something I'll be able to install on m...</td>\n",
       "      <td>0.000000</td>\n",
       "      <td>0.0</td>\n",
       "      <td>0.000000</td>\n",
       "      <td>0.00000</td>\n",
       "      <td>0.0</td>\n",
       "      <td>NaN</td>\n",
       "      <td>NaN</td>\n",
       "      <td>NaN</td>\n",
       "      <td>...</td>\n",
       "      <td>2006</td>\n",
       "      <td>rejected</td>\n",
       "      <td>0</td>\n",
       "      <td>0</td>\n",
       "      <td>0</td>\n",
       "      <td>0</td>\n",
       "      <td>0</td>\n",
       "      <td>0.0</td>\n",
       "      <td>0</td>\n",
       "      <td>4</td>\n",
       "    </tr>\n",
       "    <tr>\n",
       "      <th>59856</th>\n",
       "      <td>0.893617</td>\n",
       "      <td>haha you guys are a bunch of losers.</td>\n",
       "      <td>0.021277</td>\n",
       "      <td>0.0</td>\n",
       "      <td>0.021277</td>\n",
       "      <td>0.87234</td>\n",
       "      <td>0.0</td>\n",
       "      <td>0.0</td>\n",
       "      <td>0.0</td>\n",
       "      <td>0.0</td>\n",
       "      <td>...</td>\n",
       "      <td>2006</td>\n",
       "      <td>rejected</td>\n",
       "      <td>0</td>\n",
       "      <td>0</td>\n",
       "      <td>0</td>\n",
       "      <td>1</td>\n",
       "      <td>0</td>\n",
       "      <td>0.0</td>\n",
       "      <td>4</td>\n",
       "      <td>47</td>\n",
       "    </tr>\n",
       "  </tbody>\n",
       "</table>\n",
       "<p>5 rows × 44 columns</p>\n",
       "</div>"
      ],
      "text/plain": [
       "         target                                       comment_text  \\\n",
       "id                                                                   \n",
       "59848  0.000000  This is so cool. It's like, 'would you want yo...   \n",
       "59849  0.000000  Thank you!! This would make my life a lot less...   \n",
       "59852  0.000000  This is such an urgent design problem; kudos t...   \n",
       "59855  0.000000  Is this something I'll be able to install on m...   \n",
       "59856  0.893617               haha you guys are a bunch of losers.   \n",
       "\n",
       "       severe_toxicity  obscene  identity_attack   insult  threat  asian  \\\n",
       "id                                                                         \n",
       "59848         0.000000      0.0         0.000000  0.00000     0.0    NaN   \n",
       "59849         0.000000      0.0         0.000000  0.00000     0.0    NaN   \n",
       "59852         0.000000      0.0         0.000000  0.00000     0.0    NaN   \n",
       "59855         0.000000      0.0         0.000000  0.00000     0.0    NaN   \n",
       "59856         0.021277      0.0         0.021277  0.87234     0.0    0.0   \n",
       "\n",
       "       atheist  bisexual  ...  article_id    rating  funny  wow  sad  likes  \\\n",
       "id                        ...                                                 \n",
       "59848      NaN       NaN  ...        2006  rejected      0    0    0      0   \n",
       "59849      NaN       NaN  ...        2006  rejected      0    0    0      0   \n",
       "59852      NaN       NaN  ...        2006  rejected      0    0    0      0   \n",
       "59855      NaN       NaN  ...        2006  rejected      0    0    0      0   \n",
       "59856      0.0       0.0  ...        2006  rejected      0    0    0      1   \n",
       "\n",
       "       disagree  sexual_explicit  identity_annotator_count  \\\n",
       "id                                                           \n",
       "59848         0              0.0                         0   \n",
       "59849         0              0.0                         0   \n",
       "59852         0              0.0                         0   \n",
       "59855         0              0.0                         0   \n",
       "59856         0              0.0                         4   \n",
       "\n",
       "       toxicity_annotator_count  \n",
       "id                               \n",
       "59848                         4  \n",
       "59849                         4  \n",
       "59852                         4  \n",
       "59855                         4  \n",
       "59856                        47  \n",
       "\n",
       "[5 rows x 44 columns]"
      ]
     },
     "execution_count": 2,
     "metadata": {},
     "output_type": "execute_result"
    }
   ],
   "source": [
    "train_df = pd.read_csv('./data/train.csv', index_col='id', engine='python')\n",
    "train_df.head()"
   ]
  },
  {
   "cell_type": "code",
   "execution_count": 3,
   "metadata": {},
   "outputs": [
    {
     "data": {
      "text/html": [
       "<div>\n",
       "<style scoped>\n",
       "    .dataframe tbody tr th:only-of-type {\n",
       "        vertical-align: middle;\n",
       "    }\n",
       "\n",
       "    .dataframe tbody tr th {\n",
       "        vertical-align: top;\n",
       "    }\n",
       "\n",
       "    .dataframe thead th {\n",
       "        text-align: right;\n",
       "    }\n",
       "</style>\n",
       "<table border=\"1\" class=\"dataframe\">\n",
       "  <thead>\n",
       "    <tr style=\"text-align: right;\">\n",
       "      <th></th>\n",
       "      <th>comment_text</th>\n",
       "    </tr>\n",
       "    <tr>\n",
       "      <th>id</th>\n",
       "      <th></th>\n",
       "    </tr>\n",
       "  </thead>\n",
       "  <tbody>\n",
       "    <tr>\n",
       "      <th>7097320</th>\n",
       "      <td>[ Integrity means that you pay your debts.]\\n\\...</td>\n",
       "    </tr>\n",
       "    <tr>\n",
       "      <th>7097321</th>\n",
       "      <td>This is malfeasance by the Administrator and t...</td>\n",
       "    </tr>\n",
       "    <tr>\n",
       "      <th>7097322</th>\n",
       "      <td>@Rmiller101 - Spoken like a true elitist. But ...</td>\n",
       "    </tr>\n",
       "    <tr>\n",
       "      <th>7097323</th>\n",
       "      <td>Paul: Thank you for your kind words.  I do, in...</td>\n",
       "    </tr>\n",
       "    <tr>\n",
       "      <th>7097324</th>\n",
       "      <td>Sorry you missed high school. Eisenhower sent ...</td>\n",
       "    </tr>\n",
       "  </tbody>\n",
       "</table>\n",
       "</div>"
      ],
      "text/plain": [
       "                                              comment_text\n",
       "id                                                        \n",
       "7097320  [ Integrity means that you pay your debts.]\\n\\...\n",
       "7097321  This is malfeasance by the Administrator and t...\n",
       "7097322  @Rmiller101 - Spoken like a true elitist. But ...\n",
       "7097323  Paul: Thank you for your kind words.  I do, in...\n",
       "7097324  Sorry you missed high school. Eisenhower sent ..."
      ]
     },
     "execution_count": 3,
     "metadata": {},
     "output_type": "execute_result"
    }
   ],
   "source": [
    "test_df = pd.read_csv('./data/test.csv', index_col='id', engine='python')\n",
    "test_df.head()"
   ]
  },
  {
   "cell_type": "code",
   "execution_count": 4,
   "metadata": {},
   "outputs": [
    {
     "data": {
      "text/html": [
       "<div>\n",
       "<style scoped>\n",
       "    .dataframe tbody tr th:only-of-type {\n",
       "        vertical-align: middle;\n",
       "    }\n",
       "\n",
       "    .dataframe tbody tr th {\n",
       "        vertical-align: top;\n",
       "    }\n",
       "\n",
       "    .dataframe thead th {\n",
       "        text-align: right;\n",
       "    }\n",
       "</style>\n",
       "<table border=\"1\" class=\"dataframe\">\n",
       "  <thead>\n",
       "    <tr style=\"text-align: right;\">\n",
       "      <th></th>\n",
       "      <th>target</th>\n",
       "      <th>severe_toxicity</th>\n",
       "      <th>obscene</th>\n",
       "      <th>identity_attack</th>\n",
       "      <th>insult</th>\n",
       "      <th>threat</th>\n",
       "      <th>asian</th>\n",
       "      <th>atheist</th>\n",
       "      <th>bisexual</th>\n",
       "      <th>black</th>\n",
       "      <th>...</th>\n",
       "      <th>parent_id</th>\n",
       "      <th>article_id</th>\n",
       "      <th>funny</th>\n",
       "      <th>wow</th>\n",
       "      <th>sad</th>\n",
       "      <th>likes</th>\n",
       "      <th>disagree</th>\n",
       "      <th>sexual_explicit</th>\n",
       "      <th>identity_annotator_count</th>\n",
       "      <th>toxicity_annotator_count</th>\n",
       "    </tr>\n",
       "  </thead>\n",
       "  <tbody>\n",
       "    <tr>\n",
       "      <th>count</th>\n",
       "      <td>1.804874e+06</td>\n",
       "      <td>1.804874e+06</td>\n",
       "      <td>1.804874e+06</td>\n",
       "      <td>1.804874e+06</td>\n",
       "      <td>1.804874e+06</td>\n",
       "      <td>1.804874e+06</td>\n",
       "      <td>405130.000000</td>\n",
       "      <td>405130.000000</td>\n",
       "      <td>405130.000000</td>\n",
       "      <td>405130.000000</td>\n",
       "      <td>...</td>\n",
       "      <td>1.026228e+06</td>\n",
       "      <td>1.804874e+06</td>\n",
       "      <td>1.804874e+06</td>\n",
       "      <td>1.804874e+06</td>\n",
       "      <td>1.804874e+06</td>\n",
       "      <td>1.804874e+06</td>\n",
       "      <td>1.804874e+06</td>\n",
       "      <td>1.804874e+06</td>\n",
       "      <td>1.804874e+06</td>\n",
       "      <td>1.804874e+06</td>\n",
       "    </tr>\n",
       "    <tr>\n",
       "      <th>mean</th>\n",
       "      <td>1.030173e-01</td>\n",
       "      <td>4.582099e-03</td>\n",
       "      <td>1.387721e-02</td>\n",
       "      <td>2.263571e-02</td>\n",
       "      <td>8.115273e-02</td>\n",
       "      <td>9.311271e-03</td>\n",
       "      <td>0.011964</td>\n",
       "      <td>0.003205</td>\n",
       "      <td>0.001884</td>\n",
       "      <td>0.034393</td>\n",
       "      <td>...</td>\n",
       "      <td>3.722687e+06</td>\n",
       "      <td>2.813597e+05</td>\n",
       "      <td>2.779269e-01</td>\n",
       "      <td>4.420696e-02</td>\n",
       "      <td>1.091173e-01</td>\n",
       "      <td>2.446167e+00</td>\n",
       "      <td>5.843688e-01</td>\n",
       "      <td>6.605974e-03</td>\n",
       "      <td>1.439019e+00</td>\n",
       "      <td>8.784694e+00</td>\n",
       "    </tr>\n",
       "    <tr>\n",
       "      <th>std</th>\n",
       "      <td>1.970757e-01</td>\n",
       "      <td>2.286128e-02</td>\n",
       "      <td>6.460419e-02</td>\n",
       "      <td>7.873156e-02</td>\n",
       "      <td>1.760657e-01</td>\n",
       "      <td>4.942218e-02</td>\n",
       "      <td>0.087166</td>\n",
       "      <td>0.050193</td>\n",
       "      <td>0.026077</td>\n",
       "      <td>0.167900</td>\n",
       "      <td>...</td>\n",
       "      <td>2.450261e+06</td>\n",
       "      <td>1.039293e+05</td>\n",
       "      <td>1.055313e+00</td>\n",
       "      <td>2.449359e-01</td>\n",
       "      <td>4.555363e-01</td>\n",
       "      <td>4.727924e+00</td>\n",
       "      <td>1.866589e+00</td>\n",
       "      <td>4.529782e-02</td>\n",
       "      <td>1.787041e+01</td>\n",
       "      <td>4.350086e+01</td>\n",
       "    </tr>\n",
       "    <tr>\n",
       "      <th>min</th>\n",
       "      <td>0.000000e+00</td>\n",
       "      <td>0.000000e+00</td>\n",
       "      <td>0.000000e+00</td>\n",
       "      <td>0.000000e+00</td>\n",
       "      <td>0.000000e+00</td>\n",
       "      <td>0.000000e+00</td>\n",
       "      <td>0.000000</td>\n",
       "      <td>0.000000</td>\n",
       "      <td>0.000000</td>\n",
       "      <td>0.000000</td>\n",
       "      <td>...</td>\n",
       "      <td>6.100600e+04</td>\n",
       "      <td>2.006000e+03</td>\n",
       "      <td>0.000000e+00</td>\n",
       "      <td>0.000000e+00</td>\n",
       "      <td>0.000000e+00</td>\n",
       "      <td>0.000000e+00</td>\n",
       "      <td>0.000000e+00</td>\n",
       "      <td>0.000000e+00</td>\n",
       "      <td>0.000000e+00</td>\n",
       "      <td>3.000000e+00</td>\n",
       "    </tr>\n",
       "    <tr>\n",
       "      <th>25%</th>\n",
       "      <td>0.000000e+00</td>\n",
       "      <td>0.000000e+00</td>\n",
       "      <td>0.000000e+00</td>\n",
       "      <td>0.000000e+00</td>\n",
       "      <td>0.000000e+00</td>\n",
       "      <td>0.000000e+00</td>\n",
       "      <td>0.000000</td>\n",
       "      <td>0.000000</td>\n",
       "      <td>0.000000</td>\n",
       "      <td>0.000000</td>\n",
       "      <td>...</td>\n",
       "      <td>7.960188e+05</td>\n",
       "      <td>1.601200e+05</td>\n",
       "      <td>0.000000e+00</td>\n",
       "      <td>0.000000e+00</td>\n",
       "      <td>0.000000e+00</td>\n",
       "      <td>0.000000e+00</td>\n",
       "      <td>0.000000e+00</td>\n",
       "      <td>0.000000e+00</td>\n",
       "      <td>0.000000e+00</td>\n",
       "      <td>4.000000e+00</td>\n",
       "    </tr>\n",
       "    <tr>\n",
       "      <th>50%</th>\n",
       "      <td>0.000000e+00</td>\n",
       "      <td>0.000000e+00</td>\n",
       "      <td>0.000000e+00</td>\n",
       "      <td>0.000000e+00</td>\n",
       "      <td>0.000000e+00</td>\n",
       "      <td>0.000000e+00</td>\n",
       "      <td>0.000000</td>\n",
       "      <td>0.000000</td>\n",
       "      <td>0.000000</td>\n",
       "      <td>0.000000</td>\n",
       "      <td>...</td>\n",
       "      <td>5.222993e+06</td>\n",
       "      <td>3.321260e+05</td>\n",
       "      <td>0.000000e+00</td>\n",
       "      <td>0.000000e+00</td>\n",
       "      <td>0.000000e+00</td>\n",
       "      <td>1.000000e+00</td>\n",
       "      <td>0.000000e+00</td>\n",
       "      <td>0.000000e+00</td>\n",
       "      <td>0.000000e+00</td>\n",
       "      <td>4.000000e+00</td>\n",
       "    </tr>\n",
       "    <tr>\n",
       "      <th>75%</th>\n",
       "      <td>1.666667e-01</td>\n",
       "      <td>0.000000e+00</td>\n",
       "      <td>0.000000e+00</td>\n",
       "      <td>0.000000e+00</td>\n",
       "      <td>9.090909e-02</td>\n",
       "      <td>0.000000e+00</td>\n",
       "      <td>0.000000</td>\n",
       "      <td>0.000000</td>\n",
       "      <td>0.000000</td>\n",
       "      <td>0.000000</td>\n",
       "      <td>...</td>\n",
       "      <td>5.775758e+06</td>\n",
       "      <td>3.662370e+05</td>\n",
       "      <td>0.000000e+00</td>\n",
       "      <td>0.000000e+00</td>\n",
       "      <td>0.000000e+00</td>\n",
       "      <td>3.000000e+00</td>\n",
       "      <td>0.000000e+00</td>\n",
       "      <td>0.000000e+00</td>\n",
       "      <td>0.000000e+00</td>\n",
       "      <td>6.000000e+00</td>\n",
       "    </tr>\n",
       "    <tr>\n",
       "      <th>max</th>\n",
       "      <td>1.000000e+00</td>\n",
       "      <td>1.000000e+00</td>\n",
       "      <td>1.000000e+00</td>\n",
       "      <td>1.000000e+00</td>\n",
       "      <td>1.000000e+00</td>\n",
       "      <td>1.000000e+00</td>\n",
       "      <td>1.000000</td>\n",
       "      <td>1.000000</td>\n",
       "      <td>1.000000</td>\n",
       "      <td>1.000000</td>\n",
       "      <td>...</td>\n",
       "      <td>6.333965e+06</td>\n",
       "      <td>3.995410e+05</td>\n",
       "      <td>1.020000e+02</td>\n",
       "      <td>2.100000e+01</td>\n",
       "      <td>3.100000e+01</td>\n",
       "      <td>3.000000e+02</td>\n",
       "      <td>1.870000e+02</td>\n",
       "      <td>1.000000e+00</td>\n",
       "      <td>1.866000e+03</td>\n",
       "      <td>4.936000e+03</td>\n",
       "    </tr>\n",
       "  </tbody>\n",
       "</table>\n",
       "<p>8 rows × 41 columns</p>\n",
       "</div>"
      ],
      "text/plain": [
       "             target  severe_toxicity       obscene  identity_attack  \\\n",
       "count  1.804874e+06     1.804874e+06  1.804874e+06     1.804874e+06   \n",
       "mean   1.030173e-01     4.582099e-03  1.387721e-02     2.263571e-02   \n",
       "std    1.970757e-01     2.286128e-02  6.460419e-02     7.873156e-02   \n",
       "min    0.000000e+00     0.000000e+00  0.000000e+00     0.000000e+00   \n",
       "25%    0.000000e+00     0.000000e+00  0.000000e+00     0.000000e+00   \n",
       "50%    0.000000e+00     0.000000e+00  0.000000e+00     0.000000e+00   \n",
       "75%    1.666667e-01     0.000000e+00  0.000000e+00     0.000000e+00   \n",
       "max    1.000000e+00     1.000000e+00  1.000000e+00     1.000000e+00   \n",
       "\n",
       "             insult        threat          asian        atheist  \\\n",
       "count  1.804874e+06  1.804874e+06  405130.000000  405130.000000   \n",
       "mean   8.115273e-02  9.311271e-03       0.011964       0.003205   \n",
       "std    1.760657e-01  4.942218e-02       0.087166       0.050193   \n",
       "min    0.000000e+00  0.000000e+00       0.000000       0.000000   \n",
       "25%    0.000000e+00  0.000000e+00       0.000000       0.000000   \n",
       "50%    0.000000e+00  0.000000e+00       0.000000       0.000000   \n",
       "75%    9.090909e-02  0.000000e+00       0.000000       0.000000   \n",
       "max    1.000000e+00  1.000000e+00       1.000000       1.000000   \n",
       "\n",
       "            bisexual          black  ...     parent_id    article_id  \\\n",
       "count  405130.000000  405130.000000  ...  1.026228e+06  1.804874e+06   \n",
       "mean        0.001884       0.034393  ...  3.722687e+06  2.813597e+05   \n",
       "std         0.026077       0.167900  ...  2.450261e+06  1.039293e+05   \n",
       "min         0.000000       0.000000  ...  6.100600e+04  2.006000e+03   \n",
       "25%         0.000000       0.000000  ...  7.960188e+05  1.601200e+05   \n",
       "50%         0.000000       0.000000  ...  5.222993e+06  3.321260e+05   \n",
       "75%         0.000000       0.000000  ...  5.775758e+06  3.662370e+05   \n",
       "max         1.000000       1.000000  ...  6.333965e+06  3.995410e+05   \n",
       "\n",
       "              funny           wow           sad         likes      disagree  \\\n",
       "count  1.804874e+06  1.804874e+06  1.804874e+06  1.804874e+06  1.804874e+06   \n",
       "mean   2.779269e-01  4.420696e-02  1.091173e-01  2.446167e+00  5.843688e-01   \n",
       "std    1.055313e+00  2.449359e-01  4.555363e-01  4.727924e+00  1.866589e+00   \n",
       "min    0.000000e+00  0.000000e+00  0.000000e+00  0.000000e+00  0.000000e+00   \n",
       "25%    0.000000e+00  0.000000e+00  0.000000e+00  0.000000e+00  0.000000e+00   \n",
       "50%    0.000000e+00  0.000000e+00  0.000000e+00  1.000000e+00  0.000000e+00   \n",
       "75%    0.000000e+00  0.000000e+00  0.000000e+00  3.000000e+00  0.000000e+00   \n",
       "max    1.020000e+02  2.100000e+01  3.100000e+01  3.000000e+02  1.870000e+02   \n",
       "\n",
       "       sexual_explicit  identity_annotator_count  toxicity_annotator_count  \n",
       "count     1.804874e+06              1.804874e+06              1.804874e+06  \n",
       "mean      6.605974e-03              1.439019e+00              8.784694e+00  \n",
       "std       4.529782e-02              1.787041e+01              4.350086e+01  \n",
       "min       0.000000e+00              0.000000e+00              3.000000e+00  \n",
       "25%       0.000000e+00              0.000000e+00              4.000000e+00  \n",
       "50%       0.000000e+00              0.000000e+00              4.000000e+00  \n",
       "75%       0.000000e+00              0.000000e+00              6.000000e+00  \n",
       "max       1.000000e+00              1.866000e+03              4.936000e+03  \n",
       "\n",
       "[8 rows x 41 columns]"
      ]
     },
     "execution_count": 4,
     "metadata": {},
     "output_type": "execute_result"
    }
   ],
   "source": [
    "train_df.describe()"
   ]
  },
  {
   "cell_type": "code",
   "execution_count": 5,
   "metadata": {},
   "outputs": [
    {
     "data": {
      "text/plain": [
       "target                                       0\n",
       "comment_text                                 3\n",
       "severe_toxicity                              0\n",
       "obscene                                      0\n",
       "identity_attack                              0\n",
       "insult                                       0\n",
       "threat                                       0\n",
       "asian                                  1399744\n",
       "atheist                                1399744\n",
       "bisexual                               1399744\n",
       "black                                  1399744\n",
       "buddhist                               1399744\n",
       "christian                              1399744\n",
       "female                                 1399744\n",
       "heterosexual                           1399744\n",
       "hindu                                  1399744\n",
       "homosexual_gay_or_lesbian              1399744\n",
       "intellectual_or_learning_disability    1399744\n",
       "jewish                                 1399744\n",
       "latino                                 1399744\n",
       "male                                   1399744\n",
       "muslim                                 1399744\n",
       "other_disability                       1399744\n",
       "other_gender                           1399744\n",
       "other_race_or_ethnicity                1399744\n",
       "other_religion                         1399744\n",
       "other_sexual_orientation               1399744\n",
       "physical_disability                    1399744\n",
       "psychiatric_or_mental_illness          1399744\n",
       "transgender                            1399744\n",
       "white                                  1399744\n",
       "created_date                                 0\n",
       "publication_id                               0\n",
       "parent_id                               778646\n",
       "article_id                                   0\n",
       "rating                                       0\n",
       "funny                                        0\n",
       "wow                                          0\n",
       "sad                                          0\n",
       "likes                                        0\n",
       "disagree                                     0\n",
       "sexual_explicit                              0\n",
       "identity_annotator_count                     0\n",
       "toxicity_annotator_count                     0\n",
       "dtype: int64"
      ]
     },
     "execution_count": 5,
     "metadata": {},
     "output_type": "execute_result"
    }
   ],
   "source": [
    "train_df.isnull().sum()"
   ]
  },
  {
   "cell_type": "markdown",
   "metadata": {},
   "source": [
    "**we got 3 null values for the comment_text and 0 for the target** <br>\n",
    "so let's drop the null values in the \"comment_text\" so we dont get errors in the future"
   ]
  },
  {
   "cell_type": "code",
   "execution_count": 6,
   "metadata": {},
   "outputs": [],
   "source": [
    "train_df = train_df.dropna(subset=['comment_text'])"
   ]
  },
  {
   "cell_type": "markdown",
   "metadata": {},
   "source": [
    "**check again**"
   ]
  },
  {
   "cell_type": "code",
   "execution_count": 7,
   "metadata": {},
   "outputs": [
    {
     "data": {
      "text/plain": [
       "target                                       0\n",
       "comment_text                                 0\n",
       "severe_toxicity                              0\n",
       "obscene                                      0\n",
       "identity_attack                              0\n",
       "insult                                       0\n",
       "threat                                       0\n",
       "asian                                  1399743\n",
       "atheist                                1399743\n",
       "bisexual                               1399743\n",
       "black                                  1399743\n",
       "buddhist                               1399743\n",
       "christian                              1399743\n",
       "female                                 1399743\n",
       "heterosexual                           1399743\n",
       "hindu                                  1399743\n",
       "homosexual_gay_or_lesbian              1399743\n",
       "intellectual_or_learning_disability    1399743\n",
       "jewish                                 1399743\n",
       "latino                                 1399743\n",
       "male                                   1399743\n",
       "muslim                                 1399743\n",
       "other_disability                       1399743\n",
       "other_gender                           1399743\n",
       "other_race_or_ethnicity                1399743\n",
       "other_religion                         1399743\n",
       "other_sexual_orientation               1399743\n",
       "physical_disability                    1399743\n",
       "psychiatric_or_mental_illness          1399743\n",
       "transgender                            1399743\n",
       "white                                  1399743\n",
       "created_date                                 0\n",
       "publication_id                               0\n",
       "parent_id                               778646\n",
       "article_id                                   0\n",
       "rating                                       0\n",
       "funny                                        0\n",
       "wow                                          0\n",
       "sad                                          0\n",
       "likes                                        0\n",
       "disagree                                     0\n",
       "sexual_explicit                              0\n",
       "identity_annotator_count                     0\n",
       "toxicity_annotator_count                     0\n",
       "dtype: int64"
      ]
     },
     "execution_count": 7,
     "metadata": {},
     "output_type": "execute_result"
    }
   ],
   "source": [
    "train_df.isnull().sum()"
   ]
  },
  {
   "cell_type": "markdown",
   "metadata": {},
   "source": [
    "**Well done, nice**"
   ]
  },
  {
   "cell_type": "code",
   "execution_count": 8,
   "metadata": {},
   "outputs": [
    {
     "data": {
      "text/plain": [
       "target                                 float64\n",
       "comment_text                            object\n",
       "severe_toxicity                        float64\n",
       "obscene                                float64\n",
       "identity_attack                        float64\n",
       "insult                                 float64\n",
       "threat                                 float64\n",
       "asian                                  float64\n",
       "atheist                                float64\n",
       "bisexual                               float64\n",
       "black                                  float64\n",
       "buddhist                               float64\n",
       "christian                              float64\n",
       "female                                 float64\n",
       "heterosexual                           float64\n",
       "hindu                                  float64\n",
       "homosexual_gay_or_lesbian              float64\n",
       "intellectual_or_learning_disability    float64\n",
       "jewish                                 float64\n",
       "latino                                 float64\n",
       "male                                   float64\n",
       "muslim                                 float64\n",
       "other_disability                       float64\n",
       "other_gender                           float64\n",
       "other_race_or_ethnicity                float64\n",
       "other_religion                         float64\n",
       "other_sexual_orientation               float64\n",
       "physical_disability                    float64\n",
       "psychiatric_or_mental_illness          float64\n",
       "transgender                            float64\n",
       "white                                  float64\n",
       "created_date                            object\n",
       "publication_id                           int64\n",
       "parent_id                              float64\n",
       "article_id                               int64\n",
       "rating                                  object\n",
       "funny                                    int64\n",
       "wow                                      int64\n",
       "sad                                      int64\n",
       "likes                                    int64\n",
       "disagree                                 int64\n",
       "sexual_explicit                        float64\n",
       "identity_annotator_count                 int64\n",
       "toxicity_annotator_count                 int64\n",
       "dtype: object"
      ]
     },
     "execution_count": 8,
     "metadata": {},
     "output_type": "execute_result"
    }
   ],
   "source": [
    "train_df.dtypes"
   ]
  },
  {
   "cell_type": "markdown",
   "metadata": {},
   "source": []
  },
  {
   "cell_type": "code",
   "execution_count": 9,
   "metadata": {},
   "outputs": [
    {
     "name": "stdout",
     "output_type": "stream",
     "text": [
      "Train and test shape: (1804871, 44) (97320, 1)\n"
     ]
    }
   ],
   "source": [
    "print(\"Train and test shape: {} {}\".format(train_df.shape, test_df.shape))"
   ]
  },
  {
   "cell_type": "markdown",
   "metadata": {},
   "source": [
    "## Exploratory Data Analysis"
   ]
  },
  {
   "cell_type": "code",
   "execution_count": 10,
   "metadata": {},
   "outputs": [
    {
     "data": {
      "image/png": "[encoded data removed]",
      "text/plain": [
       "<Figure size 1200x600 with 1 Axes>"
      ]
     },
     "metadata": {},
     "output_type": "display_data"
    }
   ],
   "source": [
    "plt.figure(figsize=(12,6))\n",
    "plt.title(\"Target value Distributions\")\n",
    "sns.distplot(train_df['target'], kde=True, hist=False, bins=240, label='target')\n",
    "plt.show()"
   ]
  },
  {
   "cell_type": "markdown",
   "metadata": {},
   "source": [
    "**We see that most of the comments present in the dataset are actually non-toxic (<0.5) and only a few of them are actually toxic (>0.5)**"
   ]
  },
  {
   "cell_type": "markdown",
   "metadata": {},
   "source": [
    "### Explore Subtype Features\n",
    "- severe_toxicity\n",
    "- obscene\n",
    "- threat\n",
    "- insult\n",
    "- identity_attack"
   ]
  },
  {
   "cell_type": "code",
   "execution_count": 11,
   "metadata": {},
   "outputs": [],
   "source": [
    "# Modified a bit according to my needs\n",
    "def plot_features_distribution(features, title, data):\n",
    "    plt.figure(figsize=(12,6))\n",
    "    plt.title(title)\n",
    "    for feature in features:\n",
    "        sns.distplot(data[feature],kde=True,hist=False, bins=240, label=feature)\n",
    "    plt.xlabel('')\n",
    "    plt.legend()\n",
    "    plt.show()"
   ]
  },
  {
   "cell_type": "code",
   "execution_count": 12,
   "metadata": {},
   "outputs": [
    {
     "data": {
      "image/png": "[encoded data removed]",
      "text/plain": [
       "<Figure size 1200x600 with 1 Axes>"
      ]
     },
     "metadata": {},
     "output_type": "display_data"
    }
   ],
   "source": [
    "features = ['severe_toxicity', 'obscene', 'identity_attack', 'insult', 'threat']\n",
    "plot_features_distribution(features, \"Distribution of additional toxicity features in the train set\", train_df)"
   ]
  },
  {
   "cell_type": "code",
   "execution_count": 13,
   "metadata": {},
   "outputs": [
    {
     "data": {
      "image/png": "[encoded data removed]",
      "text/plain": [
       "<Figure size 1200x600 with 1 Axes>"
      ]
     },
     "metadata": {},
     "output_type": "display_data"
    }
   ],
   "source": [
    "# Looking at the distribution of additional toxicity features on the comments that are actually considered toxic:\n",
    "temp = train_df[train_df['target'] > 0.5]\n",
    "plot_features_distribution(features, \"Distribution of additional toxicity features in only toxic comments data\", temp)"
   ]
  },
  {
   "cell_type": "markdown",
   "metadata": {},
   "source": [
    "**We see that for toxic comments data, there are more insulting comments as compared to obscene comments**"
   ]
  },
  {
   "cell_type": "code",
   "execution_count": 14,
   "metadata": {},
   "outputs": [],
   "source": [
    "# Getting the count of additonal toxicity features in toxic comments data(temp):\n",
    "def get_comment_nature(row):\n",
    "    # Extract type of toxic comment\n",
    "    row = [row['severe_toxicity'], row['obscene'], row['identity_attack'], row['insult'], row['threat']]\n",
    "    \n",
    "    maxarg = np.argmax(np.array(row)) # Get the max value index.\n",
    "    \n",
    "    if maxarg == 0: return 'severe_toxicity'\n",
    "    elif maxarg == 1: return 'obscene'\n",
    "    elif maxarg == 2: return 'identity_attack'\n",
    "    elif maxarg == 3: return 'insult'\n",
    "    else: return 'threat'"
   ]
  },
  {
   "cell_type": "code",
   "execution_count": 15,
   "metadata": {},
   "outputs": [
    {
     "data": {
      "image/png": "[encoded data removed]",
      "text/plain": [
       "<Figure size 700x700 with 1 Axes>"
      ]
     },
     "metadata": {},
     "output_type": "display_data"
    }
   ],
   "source": [
    "# Apply the get_comment_nature function to each row\n",
    "x = temp.apply(get_comment_nature, axis=1) \n",
    "\n",
    "counts = x.value_counts()\n",
    "order = x.value_counts().index\n",
    "\n",
    "fig, ax = plt.subplots(1, 1, figsize=(7, 7))\n",
    "total = float(len(x))\n",
    "\n",
    "# Set the palette to a different color scheme to distinguish between bars\n",
    "palette = sns.color_palette(\"Set2\", len(temp.columns))\n",
    "\n",
    "# Plotting bars with aligned counts\n",
    "bars = sns.countplot(y=x, hue=x, order=order, palette=palette, ax=ax, legend=False)\n",
    "\n",
    "# Adding percentage labels on bars\n",
    "for bar in bars.patches:\n",
    "    width = bar.get_width()\n",
    "    ax.text(width + 0.1, bar.get_y() + bar.get_height()/2, f'{width/total*100:.2f}%', va='center')\n",
    "\n",
    "ax.set_title('Percentage of toxicity nature in toxic comments data')\n",
    "ax.set_xlabel('Count')\n",
    "ax.set_ylabel('Toxicity Nature')\n",
    "\n",
    "plt.show()"
   ]
  },
  {
   "cell_type": "markdown",
   "metadata": {},
   "source": [
    "# TODO: Check later if you need to add more EDA!"
   ]
  },
  {
   "cell_type": "markdown",
   "metadata": {},
   "source": [
    "## load the saved preprocessesed data to save time"
   ]
  },
  {
   "cell_type": "markdown",
   "metadata": {},
   "source": [
    "## Preprocessing Text and Train-Test Split:"
   ]
  },
  {
   "cell_type": "code",
   "execution_count": 16,
   "metadata": {},
   "outputs": [
    {
     "name": "stdout",
     "output_type": "stream",
     "text": [
      "(500000, 44)\n",
      "(80000, 1)\n"
     ]
    }
   ],
   "source": [
    "train_df = train_df.sample(n=500000, random_state=42)\n",
    "test_df = test_df.sample(n=80000, random_state=42)\n",
    "print(train_df.shape)\n",
    "print(test_df.shape)"
   ]
  },
  {
   "cell_type": "code",
   "execution_count": 17,
   "metadata": {},
   "outputs": [
    {
     "name": "stderr",
     "output_type": "stream",
     "text": [
      "[nltk_data] Downloading package stopwords to\n",
      "[nltk_data]     C:\\Users\\peace\\AppData\\Roaming\\nltk_data...\n",
      "[nltk_data]   Package stopwords is already up-to-date!\n"
     ]
    },
    {
     "data": {
      "text/plain": [
       "True"
      ]
     },
     "execution_count": 17,
     "metadata": {},
     "output_type": "execute_result"
    }
   ],
   "source": [
    "import nltk\n",
    "nltk.download('stopwords')"
   ]
  },
  {
   "cell_type": "code",
   "execution_count": 18,
   "metadata": {},
   "outputs": [],
   "source": [
    "stemmer = SnowballStemmer(\"english\")\n",
    "stop_words = set(stopwords.words('english'))\n",
    "\n",
    "def preprocess(text_string):\n",
    "    text_string = text_string.lower() # Convert everything to lower case.\n",
    "    text_string = re.sub('[^A-Za-z0-9]+', ' ', text_string) # Remove special characters and punctuations\n",
    "\n",
    "    x = text_string.split()\n",
    "    new_text = []\n",
    "\n",
    "    for word in x:\n",
    "        if word not in stop_words:\n",
    "            new_text.append(stemmer.stem(word))\n",
    "\n",
    "    text_string = ' '.join(new_text)\n",
    "    return text_string"
   ]
  },
  {
   "cell_type": "markdown",
   "metadata": {},
   "source": [
    "**pre-proccess the TRAIN data**"
   ]
  },
  {
   "cell_type": "code",
   "execution_count": 19,
   "metadata": {},
   "outputs": [
    {
     "name": "stdout",
     "output_type": "stream",
     "text": [
      "CPU times: total: 1min 27s\n",
      "Wall time: 1min 27s\n"
     ]
    }
   ],
   "source": [
    "%%time\n",
    "train_df['preprocessed_text'] = train_df['comment_text'].apply(preprocess)"
   ]
  },
  {
   "cell_type": "code",
   "execution_count": 20,
   "metadata": {},
   "outputs": [
    {
     "data": {
      "text/plain": [
       "(500000, 45)"
      ]
     },
     "execution_count": 20,
     "metadata": {},
     "output_type": "execute_result"
    }
   ],
   "source": [
    "train_df.shape"
   ]
  },
  {
   "cell_type": "code",
   "execution_count": 21,
   "metadata": {},
   "outputs": [
    {
     "data": {
      "text/plain": [
       "id\n",
       "5760461                              knee jerk reaction know\n",
       "5540729    dprk never bite prc hand feed lil kim know thi...\n",
       "367935     find necessari spend much articl hat yai promo...\n",
       "5653286    suicid subway tall build let ban subway tall b...\n",
       "5855923    look like 6 peopl includ coach push alli posit...\n",
       "532514                find us endors trump cours invent grow\n",
       "5967175                 month payment putin count govern pay\n",
       "340045     doubl credit drill babi drill enjoy anoth 40 y...\n",
       "5229690    mani peopl fed immigr certain place world woul...\n",
       "6261842    berni sander radic leftist establish candid ra...\n",
       "Name: preprocessed_text, dtype: object"
      ]
     },
     "execution_count": 21,
     "metadata": {},
     "output_type": "execute_result"
    }
   ],
   "source": [
    "train_df[\"preprocessed_text\"].head(10)"
   ]
  },
  {
   "cell_type": "markdown",
   "metadata": {},
   "source": [
    "**pre-proccess the TEST data**"
   ]
  },
  {
   "cell_type": "code",
   "execution_count": 22,
   "metadata": {},
   "outputs": [
    {
     "name": "stdout",
     "output_type": "stream",
     "text": [
      "CPU times: total: 14.2 s\n",
      "Wall time: 14.3 s\n"
     ]
    }
   ],
   "source": [
    "%%time\n",
    "test_df['preprocessed_text'] = test_df['comment_text'].apply(preprocess)"
   ]
  },
  {
   "cell_type": "code",
   "execution_count": 23,
   "metadata": {},
   "outputs": [
    {
     "data": {
      "text/plain": [
       "(80000, 2)"
      ]
     },
     "execution_count": 23,
     "metadata": {},
     "output_type": "execute_result"
    }
   ],
   "source": [
    "test_df.shape"
   ]
  },
  {
   "cell_type": "code",
   "execution_count": 24,
   "metadata": {},
   "outputs": [
    {
     "name": "stdout",
     "output_type": "stream",
     "text": [
      "(375000, 1)\n",
      "(125000, 1)\n",
      "(375000, 1)\n",
      "(125000, 1)\n"
     ]
    }
   ],
   "source": [
    "feature = train_df[['preprocessed_text']]\n",
    "output = train_df[['target']]\n",
    "X_train, X_cv, y_train, y_cv = train_test_split(feature, output)\n",
    "\n",
    "print(X_train.shape)\n",
    "print(X_cv.shape)\n",
    "print(y_train.shape)\n",
    "print(y_cv.shape)"
   ]
  },
  {
   "cell_type": "code",
   "execution_count": 25,
   "metadata": {},
   "outputs": [
    {
     "data": {
      "text/html": [
       "<div>\n",
       "<style scoped>\n",
       "    .dataframe tbody tr th:only-of-type {\n",
       "        vertical-align: middle;\n",
       "    }\n",
       "\n",
       "    .dataframe tbody tr th {\n",
       "        vertical-align: top;\n",
       "    }\n",
       "\n",
       "    .dataframe thead th {\n",
       "        text-align: right;\n",
       "    }\n",
       "</style>\n",
       "<table border=\"1\" class=\"dataframe\">\n",
       "  <thead>\n",
       "    <tr style=\"text-align: right;\">\n",
       "      <th></th>\n",
       "      <th>preprocessed_text</th>\n",
       "    </tr>\n",
       "    <tr>\n",
       "      <th>id</th>\n",
       "      <th></th>\n",
       "    </tr>\n",
       "  </thead>\n",
       "  <tbody>\n",
       "    <tr>\n",
       "      <th>5744686</th>\n",
       "      <td>throughout histori suprem court rule mani thin...</td>\n",
       "    </tr>\n",
       "    <tr>\n",
       "      <th>6303980</th>\n",
       "      <td>els drop undi moon naw think anoth homeless bu...</td>\n",
       "    </tr>\n",
       "    <tr>\n",
       "      <th>499856</th>\n",
       "      <td>think progress incom tax right way go everybod...</td>\n",
       "    </tr>\n",
       "    <tr>\n",
       "      <th>6160847</th>\n",
       "      <td>cut back screen penni wise pound foolish true ...</td>\n",
       "    </tr>\n",
       "    <tr>\n",
       "      <th>5160751</th>\n",
       "      <td>first add tsb stori think tsb own properti foo...</td>\n",
       "    </tr>\n",
       "  </tbody>\n",
       "</table>\n",
       "</div>"
      ],
      "text/plain": [
       "                                         preprocessed_text\n",
       "id                                                        \n",
       "5744686  throughout histori suprem court rule mani thin...\n",
       "6303980  els drop undi moon naw think anoth homeless bu...\n",
       "499856   think progress incom tax right way go everybod...\n",
       "6160847  cut back screen penni wise pound foolish true ...\n",
       "5160751  first add tsb stori think tsb own properti foo..."
      ]
     },
     "execution_count": 25,
     "metadata": {},
     "output_type": "execute_result"
    }
   ],
   "source": [
    "X_train.head()"
   ]
  },
  {
   "cell_type": "code",
   "execution_count": 26,
   "metadata": {},
   "outputs": [
    {
     "data": {
      "text/html": [
       "<div>\n",
       "<style scoped>\n",
       "    .dataframe tbody tr th:only-of-type {\n",
       "        vertical-align: middle;\n",
       "    }\n",
       "\n",
       "    .dataframe tbody tr th {\n",
       "        vertical-align: top;\n",
       "    }\n",
       "\n",
       "    .dataframe thead th {\n",
       "        text-align: right;\n",
       "    }\n",
       "</style>\n",
       "<table border=\"1\" class=\"dataframe\">\n",
       "  <thead>\n",
       "    <tr style=\"text-align: right;\">\n",
       "      <th></th>\n",
       "      <th>preprocessed_text</th>\n",
       "    </tr>\n",
       "    <tr>\n",
       "      <th>id</th>\n",
       "      <th></th>\n",
       "    </tr>\n",
       "  </thead>\n",
       "  <tbody>\n",
       "    <tr>\n",
       "      <th>747600</th>\n",
       "      <td>conserv lose record strong major countri still...</td>\n",
       "    </tr>\n",
       "    <tr>\n",
       "      <th>5437977</th>\n",
       "      <td>one sacrif countri sacrif countri ego</td>\n",
       "    </tr>\n",
       "    <tr>\n",
       "      <th>5697933</th>\n",
       "      <td>give first rate educ larg popul would otherwis...</td>\n",
       "    </tr>\n",
       "    <tr>\n",
       "      <th>990820</th>\n",
       "      <td>articl base fals assumpt posit taken trump ant...</td>\n",
       "    </tr>\n",
       "    <tr>\n",
       "      <th>4987287</th>\n",
       "      <td>clear idea econom fx work think foreign get mo...</td>\n",
       "    </tr>\n",
       "  </tbody>\n",
       "</table>\n",
       "</div>"
      ],
      "text/plain": [
       "                                         preprocessed_text\n",
       "id                                                        \n",
       "747600   conserv lose record strong major countri still...\n",
       "5437977              one sacrif countri sacrif countri ego\n",
       "5697933  give first rate educ larg popul would otherwis...\n",
       "990820   articl base fals assumpt posit taken trump ant...\n",
       "4987287  clear idea econom fx work think foreign get mo..."
      ]
     },
     "execution_count": 26,
     "metadata": {},
     "output_type": "execute_result"
    }
   ],
   "source": [
    "X_cv.head()"
   ]
  },
  {
   "cell_type": "code",
   "execution_count": 27,
   "metadata": {},
   "outputs": [
    {
     "data": {
      "text/html": [
       "<div>\n",
       "<style scoped>\n",
       "    .dataframe tbody tr th:only-of-type {\n",
       "        vertical-align: middle;\n",
       "    }\n",
       "\n",
       "    .dataframe tbody tr th {\n",
       "        vertical-align: top;\n",
       "    }\n",
       "\n",
       "    .dataframe thead th {\n",
       "        text-align: right;\n",
       "    }\n",
       "</style>\n",
       "<table border=\"1\" class=\"dataframe\">\n",
       "  <thead>\n",
       "    <tr style=\"text-align: right;\">\n",
       "      <th></th>\n",
       "      <th>preprocessed_text</th>\n",
       "    </tr>\n",
       "    <tr>\n",
       "      <th>id</th>\n",
       "      <th></th>\n",
       "    </tr>\n",
       "  </thead>\n",
       "  <tbody>\n",
       "    <tr>\n",
       "      <th>7147522</th>\n",
       "      <td>actual read news comment</td>\n",
       "    </tr>\n",
       "    <tr>\n",
       "      <th>7168379</th>\n",
       "      <td>like chang 2nd amend otherwis shut eff</td>\n",
       "    </tr>\n",
       "    <tr>\n",
       "      <th>7130951</th>\n",
       "      <td>case lynch draft 1st round pick 3rd round late...</td>\n",
       "    </tr>\n",
       "    <tr>\n",
       "      <th>7132137</th>\n",
       "      <td>said better pain manag addict pain manag differ</td>\n",
       "    </tr>\n",
       "    <tr>\n",
       "      <th>7140361</th>\n",
       "      <td>money back room allianc hors trade busi intere...</td>\n",
       "    </tr>\n",
       "  </tbody>\n",
       "</table>\n",
       "</div>"
      ],
      "text/plain": [
       "                                         preprocessed_text\n",
       "id                                                        \n",
       "7147522                           actual read news comment\n",
       "7168379             like chang 2nd amend otherwis shut eff\n",
       "7130951  case lynch draft 1st round pick 3rd round late...\n",
       "7132137    said better pain manag addict pain manag differ\n",
       "7140361  money back room allianc hors trade busi intere..."
      ]
     },
     "execution_count": 27,
     "metadata": {},
     "output_type": "execute_result"
    }
   ],
   "source": [
    "X_test = test_df[['preprocessed_text']]\n",
    "X_test.head()"
   ]
  },
  {
   "cell_type": "markdown",
   "metadata": {},
   "source": []
  },
  {
   "cell_type": "code",
   "execution_count": null,
   "metadata": {},
   "outputs": [
    {
     "ename": "NameError",
     "evalue": "name 'to_pickle' is not defined",
     "output_type": "error",
     "traceback": [
      "\u001b[1;31m---------------------------------------------------------------------------\u001b[0m\n",
      "\u001b[1;31mNameError\u001b[0m                                 Traceback (most recent call last)\n",
      "Cell \u001b[1;32mIn[1], line 2\u001b[0m\n",
      "\u001b[0;32m      1\u001b[0m \u001b[38;5;66;03m# Saving the files to csv so that we dont need to preprocess again.\u001b[39;00m\n",
      "\u001b[1;32m----> 2\u001b[0m X_train \u001b[38;5;241m=\u001b[39m \u001b[43mto_pickle\u001b[49m(\u001b[38;5;124m'\u001b[39m\u001b[38;5;124mX_train.pkl\u001b[39m\u001b[38;5;124m'\u001b[39m)\n",
      "\u001b[0;32m      3\u001b[0m X_cv \u001b[38;5;241m=\u001b[39m X_cv\u001b[38;5;241m.\u001b[39mto_pickle(\u001b[38;5;124m'\u001b[39m\u001b[38;5;124mX_cv.pkl\u001b[39m\u001b[38;5;124m'\u001b[39m)\n",
      "\u001b[0;32m      4\u001b[0m X_test \u001b[38;5;241m=\u001b[39m X_test\u001b[38;5;241m.\u001b[39mto_pickle(\u001b[38;5;124m'\u001b[39m\u001b[38;5;124mX_test.pkl\u001b[39m\u001b[38;5;124m'\u001b[39m)\n",
      "\n",
      "\u001b[1;31mNameError\u001b[0m: name 'to_pickle' is not defined"
     ]
    }
   ],
   "source": [
    "# Saving the files to csv so that we dont need to preprocess again.\n",
    "X_train = X_train.to_pickle('X_train.pkl')\n",
    "X_cv = X_cv.to_pickle('X_cv.pkl')\n",
    "X_test = X_test.to_pickle('X_test.pkl')\n",
    "y_train = y_train.to_pickle('y_train.pkl')\n",
    "y_cv = y_cv.to_pickle('y_cv.pkl')\n",
    "y_test = y_test.to_pickle('y_test.pkl')"
   ]
  },
  {
   "cell_type": "code",
   "execution_count": null,
   "metadata": {},
   "outputs": [],
   "source": []
  }
 ],
 "metadata": {
  "kernelspec": {
   "display_name": "Python 3",
   "language": "python",
   "name": "python3"
  },
  "language_info": {
   "codemirror_mode": {
    "name": "ipython",
    "version": 3
   },
   "file_extension": ".py",
   "mimetype": "text/x-python",
   "name": "python",
   "nbconvert_exporter": "python",
   "pygments_lexer": "ipython3",
   "version": "3.12.3"
  }
 },
 "nbformat": 4,
 "nbformat_minor": 2
}
